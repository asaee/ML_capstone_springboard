{
  "nbformat": 4,
  "nbformat_minor": 5,
  "metadata": {
    "kernelspec": {
      "display_name": "Python 3 (ipykernel)",
      "language": "python",
      "name": "python3"
    },
    "language_info": {
      "codemirror_mode": {
        "name": "ipython",
        "version": 3
      },
      "file_extension": ".py",
      "mimetype": "text/x-python",
      "name": "python",
      "nbconvert_exporter": "python",
      "pygments_lexer": "ipython3",
      "version": "3.8.8"
    },
    "colab": {
      "name": "4.4-ra-Modeling-DL-CNN.ipynb",
      "provenance": [],
      "collapsed_sections": []
    },
    "accelerator": "GPU"
  },
  "cells": [
    {
      "cell_type": "markdown",
      "metadata": {
        "id": "727ffa25"
      },
      "source": [
        "# Deep Learning Model - CNN\n"
      ],
      "id": "727ffa25"
    },
    {
      "cell_type": "code",
      "metadata": {
        "id": "43dbdaba"
      },
      "source": [
        "# filter out unncessary warnings\n",
        "import warnings\n",
        "warnings.filterwarnings('ignore')"
      ],
      "id": "43dbdaba",
      "execution_count": 1,
      "outputs": []
    },
    {
      "cell_type": "code",
      "metadata": {
        "id": "0a2443d1"
      },
      "source": [
        "import pandas as pd\n",
        "import numpy as np\n",
        "import matplotlib.pyplot as plt\n",
        "import os\n",
        "import re\n",
        "import shutil\n",
        "import string\n",
        "import tensorflow as tf\n",
        "import keras\n",
        "from tensorflow.keras import layers\n",
        "from tensorflow.keras import losses\n",
        "from keras.preprocessing.text import Tokenizer\n",
        "from keras.preprocessing.sequence import pad_sequences\n",
        "from keras.models import Sequential\n",
        "\n",
        "from sklearn.model_selection import train_test_split\n",
        "from sklearn.preprocessing import LabelEncoder\n",
        "from sklearn.metrics import classification_report\n"
      ],
      "id": "0a2443d1",
      "execution_count": 2,
      "outputs": []
    },
    {
      "cell_type": "code",
      "metadata": {
        "id": "de0a703b"
      },
      "source": [
        "# remove unnecessary TF logs\n",
        "import logging\n",
        "tf.get_logger().setLevel(logging.ERROR)"
      ],
      "id": "de0a703b",
      "execution_count": 3,
      "outputs": []
    },
    {
      "cell_type": "code",
      "metadata": {
        "colab": {
          "base_uri": "https://localhost:8080/"
        },
        "id": "196dc561",
        "outputId": "3045cbfd-e4e7-41e1-ba57-936d656f6d71"
      },
      "source": [
        "# check keras and TF version used\n",
        "print('TF Version:', tf.__version__)\n",
        "print('Keras Version:', keras.__version__)\n",
        "print('Number of available GPUs:', len(tf.config.list_physical_devices('GPU')))"
      ],
      "id": "196dc561",
      "execution_count": 4,
      "outputs": [
        {
          "output_type": "stream",
          "name": "stdout",
          "text": [
            "TF Version: 2.7.0\n",
            "Keras Version: 2.7.0\n",
            "Number of available GPUs: 0\n"
          ]
        }
      ]
    },
    {
      "cell_type": "code",
      "metadata": {
        "colab": {
          "base_uri": "https://localhost:8080/"
        },
        "id": "l062yylvuNM2",
        "outputId": "f0af64d6-a983-4be0-d3fe-1e86541f6ec0"
      },
      "source": [
        "from google.colab import drive\n",
        "drive.mount('/content/drive')"
      ],
      "id": "l062yylvuNM2",
      "execution_count": 5,
      "outputs": [
        {
          "output_type": "stream",
          "name": "stdout",
          "text": [
            "Mounted at /content/drive\n"
          ]
        }
      ]
    },
    {
      "cell_type": "code",
      "metadata": {
        "colab": {
          "base_uri": "https://localhost:8080/"
        },
        "id": "685cf171",
        "outputId": "92355ee3-31b4-4868-8dca-a25b8806432e"
      },
      "source": [
        "# Read the data\n",
        "df = pd.read_csv('/content/drive/My Drive/ML_NLP/covid_articles_preprocessed.csv')\n",
        "\n",
        "## Merge Tags\n",
        "\n",
        "tag_map = {'consumer':'general',\n",
        "           'healthcare':'science',\n",
        "           'automotive':'business',\n",
        "           'environment':'science',\n",
        "           'construction':'business',\n",
        "           'ai':'tech'}\n",
        "\n",
        "df['tags'] = [(lambda tags: tag_map[tags] if tags in tag_map.keys() else tags)(tags)\n",
        "                          for tags in df['topic_area']]\n",
        "df.tags.value_counts()"
      ],
      "id": "685cf171",
      "execution_count": 6,
      "outputs": [
        {
          "output_type": "execute_result",
          "data": {
            "text/plain": [
              "business    245652\n",
              "general      86372\n",
              "finance      22386\n",
              "tech          8915\n",
              "science       5595\n",
              "Name: tags, dtype: int64"
            ]
          },
          "metadata": {},
          "execution_count": 6
        }
      ]
    },
    {
      "cell_type": "code",
      "metadata": {
        "id": "2ac7f2c0"
      },
      "source": [
        "X = df.content.tolist()\n",
        "y = df.tags.values\n",
        "\n",
        "enc = LabelEncoder()\n",
        "y = enc.fit_transform(y)\n",
        "enc_tags_mapping = dict(zip(enc.transform(enc.classes_), enc.classes_))\n",
        "\n",
        "## Split the data in train and test\n",
        "X_train, X_test, y_train, y_test = train_test_split(X, y, test_size=0.3, random_state=21)\n",
        "X_train, X_validation, y_train, y_validation = train_test_split(X_train, y_train, test_size=0.2, random_state=21)"
      ],
      "id": "2ac7f2c0",
      "execution_count": 7,
      "outputs": []
    },
    {
      "cell_type": "code",
      "metadata": {
        "id": "20f56653"
      },
      "source": [
        "tokenizer = Tokenizer()\n",
        "tokenizer.fit_on_texts(X_train)\n",
        "\n",
        "X_train = tokenizer.texts_to_sequences(X_train)\n",
        "X_test = tokenizer.texts_to_sequences(X_test)\n",
        "X_validation = tokenizer.texts_to_sequences(X_validation)\n",
        "\n",
        "vocab_size = len(tokenizer.word_index) + 1  # Adding 1 because of reserved 0 index\n"
      ],
      "id": "20f56653",
      "execution_count": 8,
      "outputs": []
    },
    {
      "cell_type": "code",
      "metadata": {
        "id": "c084ab35"
      },
      "source": [
        "maxlen = 470\n",
        "\n",
        "X_train = pad_sequences(X_train, padding='post', maxlen=maxlen)\n",
        "X_test = pad_sequences(X_test, padding='post', maxlen=maxlen)\n",
        "X_validation = pad_sequences(X_validation, padding='post', maxlen=maxlen)"
      ],
      "id": "c084ab35",
      "execution_count": 9,
      "outputs": []
    },
    {
      "cell_type": "code",
      "metadata": {
        "colab": {
          "base_uri": "https://localhost:8080/"
        },
        "id": "41225b0c",
        "outputId": "3fce4250-26f1-4e70-8749-906a69c0f1ba"
      },
      "source": [
        "embedding_dim = 50\n",
        "\n",
        "model = Sequential()\n",
        "model.add(layers.Embedding(input_dim=vocab_size, \n",
        "                           output_dim=embedding_dim, \n",
        "                           input_length=maxlen))\n",
        "model.add(layers.Dropout(rate=0.2, seed=21))\n",
        "model.add(layers.Conv1D(50, 7, padding=\"valid\", activation=\"relu\", strides=3))\n",
        "model.add(layers.Conv1D(50, 7, padding=\"valid\", activation=\"relu\", strides=3))\n",
        "model.add(layers.GlobalAveragePooling1D())\n",
        "model.add(layers.Dense(512, activation='relu'))\n",
        "model.add(layers.Dropout(rate=0.5, seed=21))\n",
        "model.add(layers.Dense(5, activation='softmax'))\n",
        "model.compile(optimizer='adam',\n",
        "              loss='sparse_categorical_crossentropy',\n",
        "              metrics=['accuracy'])\n",
        "model.summary()"
      ],
      "id": "41225b0c",
      "execution_count": 13,
      "outputs": [
        {
          "output_type": "stream",
          "name": "stdout",
          "text": [
            "Model: \"sequential_1\"\n",
            "_________________________________________________________________\n",
            " Layer (type)                Output Shape              Param #   \n",
            "=================================================================\n",
            " embedding_1 (Embedding)     (None, 470, 50)           46890800  \n",
            "                                                                 \n",
            " dropout_2 (Dropout)         (None, 470, 50)           0         \n",
            "                                                                 \n",
            " conv1d_2 (Conv1D)           (None, 155, 50)           17550     \n",
            "                                                                 \n",
            " conv1d_3 (Conv1D)           (None, 50, 50)            17550     \n",
            "                                                                 \n",
            " global_average_pooling1d_1   (None, 50)               0         \n",
            " (GlobalAveragePooling1D)                                        \n",
            "                                                                 \n",
            " dense_2 (Dense)             (None, 512)               26112     \n",
            "                                                                 \n",
            " dropout_3 (Dropout)         (None, 512)               0         \n",
            "                                                                 \n",
            " dense_3 (Dense)             (None, 5)                 2565      \n",
            "                                                                 \n",
            "=================================================================\n",
            "Total params: 46,954,577\n",
            "Trainable params: 46,954,577\n",
            "Non-trainable params: 0\n",
            "_________________________________________________________________\n"
          ]
        }
      ]
    },
    {
      "cell_type": "code",
      "metadata": {
        "id": "183dfeee"
      },
      "source": [
        "plt.style.use('ggplot')\n",
        "\n",
        "def plot_history(history):\n",
        "    acc = history.history['accuracy']\n",
        "    val_acc = history.history['val_accuracy']\n",
        "    loss = history.history['loss']\n",
        "    val_loss = history.history['val_loss']\n",
        "    x = range(1, len(acc) + 1)\n",
        "\n",
        "    plt.figure(figsize=(12, 5))\n",
        "    plt.subplot(1, 2, 1)\n",
        "    plt.plot(x, acc, 'b', label='Training acc')\n",
        "    plt.plot(x, val_acc, 'r', label='Validation acc')\n",
        "    plt.title('Training and validation accuracy')\n",
        "    plt.legend()\n",
        "    plt.subplot(1, 2, 2)\n",
        "    plt.plot(x, loss, 'b', label='Training loss')\n",
        "    plt.plot(x, val_loss, 'r', label='Validation loss')\n",
        "    plt.title('Training and validation loss')\n",
        "    plt.legend()"
      ],
      "id": "183dfeee",
      "execution_count": 11,
      "outputs": []
    },
    {
      "cell_type": "code",
      "metadata": {
        "colab": {
          "base_uri": "https://localhost:8080/"
        },
        "id": "f0c25c47",
        "outputId": "1a9345ae-1667-4d1f-8c14-cd9fed2aaf41"
      },
      "source": [
        "checkpoint_path = \"/content/drive/My Drive/ML_NLP/training_2/cp.ckpt\"\n",
        "checkpoint_dir = os.path.dirname(checkpoint_path)\n",
        "\n",
        "# Create a callback that saves the model's weights\n",
        "my_callbacks = [\n",
        "                keras.callbacks.ModelCheckpoint(filepath=checkpoint_path,\n",
        "                                                 save_weights_only=True,\n",
        "                                                 verbose=False),\n",
        "                keras.callbacks.EarlyStopping(monitor='val_loss', patience=3),\n",
        "                ]\n",
        "\n",
        "\n",
        "history = model.fit(X_train, y_train,\n",
        "                    epochs=50,\n",
        "                    verbose=True,\n",
        "                    validation_data=(X_validation, y_validation),\n",
        "                    batch_size=5000,\n",
        "                    callbacks=[my_callbacks])\n",
        "\n",
        "model.save('/content/drive/My Drive/ML_NLP/saved_model/my_model-2')"
      ],
      "id": "f0c25c47",
      "execution_count": 14,
      "outputs": [
        {
          "output_type": "stream",
          "name": "stdout",
          "text": [
            "Epoch 1/50\n",
            "42/42 [==============================] - 227s 5s/step - loss: 1.1017 - accuracy: 0.6496 - val_loss: 0.8524 - val_accuracy: 0.6689\n",
            "Epoch 2/50\n",
            "42/42 [==============================] - 223s 5s/step - loss: 0.7952 - accuracy: 0.6709 - val_loss: 0.6760 - val_accuracy: 0.7671\n",
            "Epoch 3/50\n",
            "42/42 [==============================] - 231s 5s/step - loss: 0.5495 - accuracy: 0.8062 - val_loss: 0.4772 - val_accuracy: 0.8255\n",
            "Epoch 4/50\n",
            "42/42 [==============================] - 225s 5s/step - loss: 0.4093 - accuracy: 0.8481 - val_loss: 0.4187 - val_accuracy: 0.8427\n",
            "Epoch 5/50\n",
            "42/42 [==============================] - 224s 5s/step - loss: 0.3199 - accuracy: 0.8815 - val_loss: 0.3945 - val_accuracy: 0.8608\n",
            "Epoch 6/50\n",
            "42/42 [==============================] - 232s 6s/step - loss: 0.2410 - accuracy: 0.9124 - val_loss: 0.3887 - val_accuracy: 0.8717\n",
            "Epoch 7/50\n",
            "42/42 [==============================] - 226s 5s/step - loss: 0.1774 - accuracy: 0.9358 - val_loss: 0.4063 - val_accuracy: 0.8750\n",
            "Epoch 8/50\n",
            "42/42 [==============================] - 226s 5s/step - loss: 0.1283 - accuracy: 0.9533 - val_loss: 0.4569 - val_accuracy: 0.8771\n",
            "Epoch 9/50\n",
            "42/42 [==============================] - 234s 6s/step - loss: 0.0938 - accuracy: 0.9660 - val_loss: 0.5082 - val_accuracy: 0.8757\n"
          ]
        }
      ]
    },
    {
      "cell_type": "code",
      "metadata": {
        "colab": {
          "base_uri": "https://localhost:8080/",
          "height": 372
        },
        "id": "d18885bb",
        "outputId": "bfd850c3-c709-47a2-b131-08b92a02e0aa"
      },
      "source": [
        "loss, accuracy = model.evaluate(X_train, y_train, verbose=False)\n",
        "print(\"Training Accuracy: {:.4f}\".format(accuracy))\n",
        "loss, accuracy = model.evaluate(X_validation, y_validation, verbose=False)\n",
        "print(\"Validation Accuracy:  {:.4f}\".format(accuracy))\n",
        "plot_history(history)"
      ],
      "id": "d18885bb",
      "execution_count": 15,
      "outputs": [
        {
          "output_type": "stream",
          "name": "stdout",
          "text": [
            "Training Accuracy: 0.9810\n",
            "Validation Accuracy:  0.8757\n"
          ]
        },
        {
          "output_type": "display_data",
          "data": {
            "image/png": "[encoded data removed]",
            "text/plain": [
              "<Figure size 864x360 with 2 Axes>"
            ]
          },
          "metadata": {}
        }
      ]
    },
    {
      "cell_type": "code",
      "metadata": {
        "colab": {
          "base_uri": "https://localhost:8080/"
        },
        "id": "b5cca046",
        "outputId": "4c24b137-4dba-4b2c-863a-c3972989c9b5"
      },
      "source": [
        "y_pred_prob = model.predict(X_test)\n",
        "y_pred = np.argmax(y_pred_prob, axis=1)\n",
        "print(classification_report(y_test, y_pred, target_names=list(enc_tags_mapping.values())))"
      ],
      "id": "b5cca046",
      "execution_count": 16,
      "outputs": [
        {
          "output_type": "stream",
          "name": "stdout",
          "text": [
            "              precision    recall  f1-score   support\n",
            "\n",
            "    business       0.92      0.94      0.93     73935\n",
            "     finance       0.62      0.72      0.67      6788\n",
            "     general       0.87      0.84      0.86     25646\n",
            "     science       0.35      0.09      0.14      1690\n",
            "        tech       0.41      0.38      0.40      2617\n",
            "\n",
            "    accuracy                           0.88    110676\n",
            "   macro avg       0.63      0.59      0.60    110676\n",
            "weighted avg       0.87      0.88      0.87    110676\n",
            "\n"
          ]
        }
      ]
    }
  ]
}