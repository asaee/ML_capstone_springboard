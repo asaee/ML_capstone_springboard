{
 "cells": [
  {
   "cell_type": "markdown",
   "id": "727ffa25",
   "metadata": {
    "id": "727ffa25"
   },
   "source": [
    "# Deep Learning Model - CNN and LSTM\n",
    "Recurrent neural networks can obtain context information and the convolutional neural networks (CNN) excel at learning the spatial structure in input data. The text analysis method based on CNN can obtain important features of text through pooling but it is difficult to obtain contextual information. \n",
    "\n",
    "In this notebook I will apply CNN, bi-directional long-short term memory (bi-LSTM) models to the news dataset and compare their performance for text classification."
   ]
  },
  {
   "cell_type": "code",
   "execution_count": 1,
   "id": "43dbdaba",
   "metadata": {
    "id": "43dbdaba"
   },
   "outputs": [],
   "source": [
    "# filter out unncessary warnings\n",
    "import warnings\n",
    "warnings.filterwarnings('ignore')"
   ]
  },
  {
   "cell_type": "code",
   "execution_count": 2,
   "id": "0a2443d1",
   "metadata": {
    "id": "0a2443d1"
   },
   "outputs": [],
   "source": [
    "import pandas as pd\n",
    "import numpy as np\n",
    "import matplotlib.pyplot as plt\n",
    "import os\n",
    "import re\n",
    "import shutil\n",
    "import string\n",
    "import tensorflow as tf\n",
    "import keras\n",
    "from tensorflow.keras import layers\n",
    "from tensorflow.keras import losses\n",
    "from keras.preprocessing.text import Tokenizer\n",
    "from keras.preprocessing.sequence import pad_sequences\n",
    "from keras.models import Sequential, Model\n",
    "\n",
    "from official.nlp import optimization\n",
    "\n",
    "from sklearn.model_selection import train_test_split\n",
    "from sklearn.preprocessing import LabelEncoder\n",
    "from sklearn.metrics import classification_report"
   ]
  },
  {
   "cell_type": "code",
   "execution_count": 3,
   "id": "de0a703b",
   "metadata": {
    "id": "de0a703b"
   },
   "outputs": [],
   "source": [
    "# remove unnecessary TF logs\n",
    "import logging\n",
    "tf.get_logger().setLevel(logging.ERROR)\n",
    "\n",
    "import absl.logging\n",
    "absl.logging.set_verbosity(absl.logging.ERROR)"
   ]
  },
  {
   "cell_type": "code",
   "execution_count": 4,
   "id": "196dc561",
   "metadata": {
    "colab": {
     "base_uri": "https://localhost:8080/"
    },
    "id": "196dc561",
    "outputId": "4ce6d9d5-fd2b-4199-acfe-d33a25ae4207"
   },
   "outputs": [
    {
     "name": "stdout",
     "output_type": "stream",
     "text": [
      "TF Version: 2.7.0\n",
      "Keras Version: 2.7.0\n",
      "Number of available GPUs: 1\n"
     ]
    }
   ],
   "source": [
    "# check keras and TF version used\n",
    "print('TF Version:', tf.__version__)\n",
    "print('Keras Version:', keras.__version__)\n",
    "print('Number of available GPUs:', len(tf.config.list_physical_devices('GPU')))"
   ]
  },
  {
   "cell_type": "code",
   "execution_count": 5,
   "id": "685cf171",
   "metadata": {
    "colab": {
     "base_uri": "https://localhost:8080/"
    },
    "id": "685cf171",
    "outputId": "1371c664-be47-4fcf-e107-0e7202b51684"
   },
   "outputs": [
    {
     "data": {
      "text/plain": [
       "business    245652\n",
       "general      86372\n",
       "finance      22386\n",
       "tech          8915\n",
       "science       5595\n",
       "Name: tags, dtype: int64"
      ]
     },
     "execution_count": 5,
     "metadata": {},
     "output_type": "execute_result"
    }
   ],
   "source": [
    "# Read the data\n",
    "df = pd.read_csv('../data/interim/covid_articles_preprocessed.csv')\n",
    "\n",
    "## Merge Tags\n",
    "\n",
    "tag_map = {'consumer':'general',\n",
    "           'healthcare':'science',\n",
    "           'automotive':'business',\n",
    "           'environment':'science',\n",
    "           'construction':'business',\n",
    "           'ai':'tech'}\n",
    "\n",
    "df['tags'] = [(lambda tags: tag_map[tags] if tags in tag_map.keys() else tags)(tags)\n",
    "                          for tags in df['topic_area']]\n",
    "df.tags.value_counts()"
   ]
  },
  {
   "cell_type": "code",
   "execution_count": 6,
   "id": "2ac7f2c0",
   "metadata": {
    "id": "2ac7f2c0"
   },
   "outputs": [],
   "source": [
    "X = df.content.values\n",
    "y = df.tags.values\n",
    "\n",
    "enc = LabelEncoder()\n",
    "y = enc.fit_transform(y)\n",
    "enc_tags_mapping = dict(zip(enc.transform(enc.classes_), enc.classes_))\n",
    "\n",
    "## Split the data in train and test\n",
    "X_train, X_test, y_train, y_test = train_test_split(X, y, test_size=0.3, random_state=21)\n",
    "X_train, X_validation, y_train, y_validation = train_test_split(X_train, y_train, test_size=0.2, random_state=21)"
   ]
  },
  {
   "cell_type": "markdown",
   "id": "73b805b5",
   "metadata": {},
   "source": [
    "## Text processing\n",
    "The `Tokenizer` class vectorize a text corpus into a list of integers. Each integer maps to a value in a dictionary that encodes the entire corpus, with the keys in the dictionary being the vocabulary terms themselves."
   ]
  },
  {
   "cell_type": "code",
   "execution_count": 7,
   "id": "20f56653",
   "metadata": {
    "id": "20f56653"
   },
   "outputs": [],
   "source": [
    "tokenizer = Tokenizer()\n",
    "tokenizer.fit_on_texts(X_train)\n",
    "\n",
    "X_train = tokenizer.texts_to_sequences(X_train)\n",
    "X_test = tokenizer.texts_to_sequences(X_test)\n",
    "X_validation = tokenizer.texts_to_sequences(X_validation)\n",
    "\n",
    "vocab_size = len(tokenizer.word_index) + 1  # Adding 1 because of reserved 0 index"
   ]
  },
  {
   "cell_type": "markdown",
   "id": "83550809",
   "metadata": {},
   "source": [
    "The `pad_sequences` class adds padding to the end of each article to ensure all entries are the same length (i.e., `maxlen` in this case)."
   ]
  },
  {
   "cell_type": "code",
   "execution_count": 8,
   "id": "c084ab35",
   "metadata": {
    "id": "c084ab35"
   },
   "outputs": [],
   "source": [
    "maxlen = 700\n",
    "\n",
    "X_train = pad_sequences(X_train, padding='post', maxlen=maxlen)\n",
    "X_test = pad_sequences(X_test, padding='post', maxlen=maxlen)\n",
    "X_validation = pad_sequences(X_validation, padding='post', maxlen=maxlen)"
   ]
  },
  {
   "cell_type": "markdown",
   "id": "5e393a0e",
   "metadata": {},
   "source": [
    "## CNN Model"
   ]
  },
  {
   "cell_type": "code",
   "execution_count": 13,
   "id": "51c2add0",
   "metadata": {},
   "outputs": [],
   "source": [
    "epochs = 20\n",
    "steps_per_epoch = tf.data.experimental.cardinality(tf.data.Dataset.from_tensor_slices(X_train)).numpy()\n",
    "num_train_steps = steps_per_epoch * epochs\n",
    "num_warmup_steps = int(0.1*num_train_steps)\n",
    "\n",
    "init_lr = 7e-3\n",
    "optimizer = optimization.create_optimizer(init_lr=init_lr,\n",
    "                                          num_train_steps=num_train_steps,\n",
    "                                          num_warmup_steps=num_warmup_steps,\n",
    "                                          optimizer_type='adamw')"
   ]
  },
  {
   "cell_type": "code",
   "execution_count": 14,
   "id": "OMVlm2gdcSEK",
   "metadata": {
    "id": "OMVlm2gdcSEK"
   },
   "outputs": [
    {
     "name": "stdout",
     "output_type": "stream",
     "text": [
      "Model: \"model_1\"\n",
      "__________________________________________________________________________________________________\n",
      " Layer (type)                   Output Shape         Param #     Connected to                     \n",
      "==================================================================================================\n",
      " docs (InputLayer)              [(None, 700)]        0           []                               \n",
      "                                                                                                  \n",
      " embedding_1 (Embedding)        (None, 700, 50)      46890800    ['docs[0][0]']                   \n",
      "                                                                                                  \n",
      " cnn_2 (Conv1D)                 (None, 350, 50)      5050        ['embedding_1[0][0]']            \n",
      "                                                                                                  \n",
      " cnn_3 (Conv1D)                 (None, 233, 50)      7550        ['embedding_1[0][0]']            \n",
      "                                                                                                  \n",
      " cnn_4 (Conv1D)                 (None, 175, 50)      10050       ['embedding_1[0][0]']            \n",
      "                                                                                                  \n",
      " cnn_5 (Conv1D)                 (None, 140, 50)      12550       ['embedding_1[0][0]']            \n",
      "                                                                                                  \n",
      " pooling_1 (AveragePooling1D)   (None, 35, 50)       0           ['cnn_2[0][0]']                  \n",
      "                                                                                                  \n",
      " pooling_2 (AveragePooling1D)   (None, 23, 50)       0           ['cnn_3[0][0]']                  \n",
      "                                                                                                  \n",
      " pooling_3 (AveragePooling1D)   (None, 17, 50)       0           ['cnn_4[0][0]']                  \n",
      "                                                                                                  \n",
      " pooling_4 (AveragePooling1D)   (None, 14, 50)       0           ['cnn_5[0][0]']                  \n",
      "                                                                                                  \n",
      " hybrid_layer (Concatenate)     (None, 89, 50)       0           ['pooling_1[0][0]',              \n",
      "                                                                  'pooling_2[0][0]',              \n",
      "                                                                  'pooling_3[0][0]',              \n",
      "                                                                  'pooling_4[0][0]']              \n",
      "                                                                                                  \n",
      " faltten (Flatten)              (None, 4450)         0           ['hybrid_layer[0][0]']           \n",
      "                                                                                                  \n",
      " Dense (Dense)                  (None, 512)          2278912     ['faltten[0][0]']                \n",
      "                                                                                                  \n",
      " dropout_3 (Dropout)            (None, 512)          0           ['Dense[0][0]']                  \n",
      "                                                                                                  \n",
      " Dense_2 (Dense)                (None, 64)           32832       ['dropout_3[0][0]']              \n",
      "                                                                                                  \n",
      " dropout_4 (Dropout)            (None, 64)           0           ['Dense_2[0][0]']                \n",
      "                                                                                                  \n",
      " classifier (Dense)             (None, 5)            325         ['dropout_4[0][0]']              \n",
      "                                                                                                  \n",
      "==================================================================================================\n",
      "Total params: 49,238,069\n",
      "Trainable params: 49,238,069\n",
      "Non-trainable params: 0\n",
      "__________________________________________________________________________________________________\n"
     ]
    }
   ],
   "source": [
    "embedding_dim = 50\n",
    "\n",
    "text_input = layers.Input(shape=(maxlen,), name='docs')\n",
    "\n",
    "text_embeddings = layers.Embedding(input_dim=vocab_size, \n",
    "                           output_dim=embedding_dim, \n",
    "                           input_length=maxlen)(text_input)\n",
    "\n",
    "conv_1 = layers.Conv1D(embedding_dim,2,strides=2, name='cnn_2')(text_embeddings)\n",
    "conv_2 = layers.Conv1D(embedding_dim,3,strides=3, name='cnn_3')(text_embeddings)\n",
    "conv_3 = layers.Conv1D(embedding_dim,4,strides=4, name='cnn_4')(text_embeddings)\n",
    "conv_4 = layers.Conv1D(embedding_dim,5,strides=5, name='cnn_5')(text_embeddings)\n",
    "\n",
    "pool_1 = layers.AveragePooling1D(pool_size=10, name='pooling_1')(conv_1)\n",
    "pool_2 = layers.AveragePooling1D(pool_size=10, name='pooling_2')(conv_2)\n",
    "pool_3 = layers.AveragePooling1D(pool_size=10, name='pooling_3')(conv_3)\n",
    "pool_4 = layers.AveragePooling1D(pool_size=10, name='pooling_4')(conv_4)\n",
    "\n",
    "hybrid_layer = layers.Concatenate(axis=1, name='hybrid_layer')([pool_1, pool_2, pool_3, pool_4])\n",
    "\n",
    "flatten = layers.Flatten(name='faltten')(hybrid_layer)\n",
    "\n",
    "dense = layers.Dense(512, activation='relu', name='Dense')(flatten)\n",
    "dropout = layers.Dropout(0.5)(dense)\n",
    "\n",
    "dense = layers.Dense(64, activation='relu', name='Dense_2')(dropout)\n",
    "dropout = layers.Dropout(0.5)(dense)\n",
    "\n",
    "output = layers.Dense(5, activation='softmax', name='classifier')(dropout)\n",
    "\n",
    "model_CNN = Model(inputs=text_input, outputs=output)\n",
    "model_CNN.compile(optimizer=optimizer,\n",
    "              loss='sparse_categorical_crossentropy',\n",
    "              metrics=['accuracy'])\n",
    "model_CNN.summary()"
   ]
  },
  {
   "cell_type": "code",
   "execution_count": 15,
   "id": "ee3954c3",
   "metadata": {},
   "outputs": [
    {
     "name": "stdout",
     "output_type": "stream",
     "text": [
      "Epoch 1/50\n",
      "414/414 [==============================] - 124s 298ms/step - loss: 1.5046 - accuracy: 0.4914 - val_loss: 1.2587 - val_accuracy: 0.6689\n",
      "Epoch 2/50\n",
      "414/414 [==============================] - 123s 297ms/step - loss: 1.0598 - accuracy: 0.6601 - val_loss: 0.8897 - val_accuracy: 0.6689\n",
      "Epoch 3/50\n",
      "414/414 [==============================] - 122s 296ms/step - loss: 0.8748 - accuracy: 0.6938 - val_loss: 0.7127 - val_accuracy: 0.7691\n",
      "Epoch 4/50\n",
      "414/414 [==============================] - 122s 295ms/step - loss: 0.6822 - accuracy: 0.7868 - val_loss: 0.5730 - val_accuracy: 0.8107\n",
      "Epoch 5/50\n",
      "414/414 [==============================] - 122s 294ms/step - loss: 0.5568 - accuracy: 0.8214 - val_loss: 0.4788 - val_accuracy: 0.8297\n",
      "Epoch 6/50\n",
      "414/414 [==============================] - 121s 293ms/step - loss: 0.4552 - accuracy: 0.8457 - val_loss: 0.4042 - val_accuracy: 0.8555\n",
      "Epoch 7/50\n",
      "414/414 [==============================] - 121s 293ms/step - loss: 0.3790 - accuracy: 0.8740 - val_loss: 0.3569 - val_accuracy: 0.8750\n",
      "Epoch 8/50\n",
      "414/414 [==============================] - 121s 293ms/step - loss: 0.3240 - accuracy: 0.8926 - val_loss: 0.3247 - val_accuracy: 0.8853\n",
      "Epoch 9/50\n",
      "414/414 [==============================] - 117s 282ms/step - loss: 0.2731 - accuracy: 0.9074 - val_loss: 0.2994 - val_accuracy: 0.8928\n",
      "Epoch 10/50\n",
      "414/414 [==============================] - 116s 280ms/step - loss: 0.2290 - accuracy: 0.9221 - val_loss: 0.2965 - val_accuracy: 0.8976\n",
      "Epoch 11/50\n",
      "414/414 [==============================] - 116s 280ms/step - loss: 0.1944 - accuracy: 0.9338 - val_loss: 0.2847 - val_accuracy: 0.9012\n",
      "Epoch 12/50\n",
      "414/414 [==============================] - 117s 282ms/step - loss: 0.1636 - accuracy: 0.9430 - val_loss: 0.2988 - val_accuracy: 0.9039\n",
      "Epoch 13/50\n",
      "414/414 [==============================] - 116s 280ms/step - loss: 0.1379 - accuracy: 0.9515 - val_loss: 0.2881 - val_accuracy: 0.9072\n",
      "Epoch 14/50\n",
      "414/414 [==============================] - 115s 278ms/step - loss: 0.1172 - accuracy: 0.9585 - val_loss: 0.3001 - val_accuracy: 0.9093\n",
      "Epoch 15/50\n",
      "414/414 [==============================] - 115s 279ms/step - loss: 0.1002 - accuracy: 0.9645 - val_loss: 0.3372 - val_accuracy: 0.9085\n"
     ]
    }
   ],
   "source": [
    "checkpoint_path = \"../models/DL/lstm-train/cp.ckpt\"\n",
    "checkpoint_dir = os.path.dirname(checkpoint_path)\n",
    "\n",
    "# Create a callback that saves the model's weights\n",
    "my_callbacks = [\n",
    "                keras.callbacks.ModelCheckpoint(filepath=checkpoint_path,\n",
    "                                                 save_weights_only=True,\n",
    "                                                 verbose=False),\n",
    "                keras.callbacks.EarlyStopping(monitor='val_loss',\n",
    "                                              patience=4,\n",
    "                                              restore_best_weights=False),\n",
    "                ]\n",
    "\n",
    "history_CNN = model_CNN.fit(X_train, y_train,\n",
    "                    epochs=50,\n",
    "                    verbose=True,\n",
    "                    validation_data=(X_validation, y_validation),\n",
    "                    batch_size=500,\n",
    "                    callbacks=[my_callbacks])"
   ]
  },
  {
   "cell_type": "markdown",
   "id": "92239633",
   "metadata": {},
   "source": [
    "The model overfit to the training data. I added dropout layers and early stopping to mitigate this issue. Now, let's check the performance of the model on test data."
   ]
  },
  {
   "cell_type": "code",
   "execution_count": 16,
   "id": "8d083305",
   "metadata": {},
   "outputs": [
    {
     "name": "stdout",
     "output_type": "stream",
     "text": [
      "              precision    recall  f1-score   support\n",
      "\n",
      "    business       0.92      0.97      0.94     73935\n",
      "     finance       0.89      0.74      0.81      6788\n",
      "     general       0.91      0.87      0.89     25646\n",
      "     science       0.47      0.09      0.15      1690\n",
      "        tech       0.52      0.52      0.52      2617\n",
      "\n",
      "    accuracy                           0.91    110676\n",
      "   macro avg       0.74      0.64      0.66    110676\n",
      "weighted avg       0.90      0.91      0.90    110676\n",
      "\n"
     ]
    }
   ],
   "source": [
    "y_pred_prob = model_CNN.predict(X_test)\n",
    "y_pred = np.argmax(y_pred_prob, axis=1)\n",
    "print(classification_report(y_test, y_pred, target_names=list(enc_tags_mapping.values())))"
   ]
  },
  {
   "cell_type": "code",
   "execution_count": 17,
   "id": "4dc2778b",
   "metadata": {},
   "outputs": [],
   "source": [
    "## Saving the model\n",
    "model_CNN.save( \"../models/DL/cnn-model-3\")"
   ]
  },
  {
   "cell_type": "markdown",
   "id": "IaihL8rwbvP1",
   "metadata": {
    "id": "IaihL8rwbvP1"
   },
   "source": [
    "# LSTM\n",
    "Now, I will add an LSTM layer to the model to compare its performance with previous architecture."
   ]
  },
  {
   "cell_type": "code",
   "execution_count": 13,
   "id": "QaPPg9RXznVO",
   "metadata": {
    "colab": {
     "base_uri": "https://localhost:8080/"
    },
    "id": "QaPPg9RXznVO",
    "outputId": "9e9101c6-3315-44b5-c8db-7a01dbdfe00b"
   },
   "outputs": [
    {
     "name": "stdout",
     "output_type": "stream",
     "text": [
      "Model: \"sequential\"\n",
      "_________________________________________________________________\n",
      " Layer (type)                Output Shape              Param #   \n",
      "=================================================================\n",
      " embedding_1 (Embedding)     (None, 700, 16)           15005056  \n",
      "                                                                 \n",
      " conv1d (Conv1D)             (None, 350, 16)           528       \n",
      "                                                                 \n",
      " average_pooling1d (AverageP  (None, 116, 16)          0         \n",
      " ooling1D)                                                       \n",
      "                                                                 \n",
      " bidirectional (Bidirectiona  (None, 32)               4224      \n",
      " l)                                                              \n",
      "                                                                 \n",
      " dropout_2 (Dropout)         (None, 32)                0         \n",
      "                                                                 \n",
      " dense (Dense)               (None, 256)               8448      \n",
      "                                                                 \n",
      " dense_1 (Dense)             (None, 5)                 1285      \n",
      "                                                                 \n",
      "=================================================================\n",
      "Total params: 15,019,541\n",
      "Trainable params: 15,019,541\n",
      "Non-trainable params: 0\n",
      "_________________________________________________________________\n"
     ]
    }
   ],
   "source": [
    "embedding_dim = 16\n",
    "\n",
    "model_hybrid = Sequential()\n",
    "model_hybrid.add(layers.Embedding(input_dim=vocab_size, \n",
    "                           output_dim=embedding_dim, \n",
    "                           input_length=maxlen))\n",
    "model_hybrid.add(layers.Conv1D(16,2,strides=2))\n",
    "model_hybrid.add(layers.AveragePooling1D(pool_size=3))\n",
    "model_hybrid.add(layers.Bidirectional(layers.LSTM(16)))\n",
    "model_hybrid.add(layers.Dropout(rate=0.5, seed=21))\n",
    "model_hybrid.add(layers.Dense(256, activation='relu'))\n",
    "model_hybrid.add(layers.Dense(5, activation='softmax'))\n",
    "model_hybrid.compile(optimizer='adam',\n",
    "              loss='sparse_categorical_crossentropy',\n",
    "              metrics=['accuracy'])\n",
    "model_hybrid.summary()"
   ]
  },
  {
   "cell_type": "code",
   "execution_count": 14,
   "id": "omfLBQhcb7eC",
   "metadata": {
    "colab": {
     "base_uri": "https://localhost:8080/"
    },
    "id": "omfLBQhcb7eC",
    "outputId": "40d5beb9-6910-4e6d-d10e-2f070a2d3c75"
   },
   "outputs": [
    {
     "name": "stdout",
     "output_type": "stream",
     "text": [
      "Epoch 1/50\n",
      "69/69 [==============================] - 30s 357ms/step - loss: 1.0951 - accuracy: 0.6577 - val_loss: 0.8895 - val_accuracy: 0.6689\n",
      "Epoch 2/50\n",
      "69/69 [==============================] - 23s 333ms/step - loss: 0.6954 - accuracy: 0.7602 - val_loss: 0.5219 - val_accuracy: 0.8244\n",
      "Epoch 3/50\n",
      "69/69 [==============================] - 23s 331ms/step - loss: 0.4556 - accuracy: 0.8445 - val_loss: 0.4112 - val_accuracy: 0.8490\n",
      "Epoch 4/50\n",
      "69/69 [==============================] - 23s 331ms/step - loss: 0.3321 - accuracy: 0.8817 - val_loss: 0.3524 - val_accuracy: 0.8763\n",
      "Epoch 5/50\n",
      "69/69 [==============================] - 23s 332ms/step - loss: 0.2381 - accuracy: 0.9159 - val_loss: 0.3369 - val_accuracy: 0.8870\n",
      "Epoch 6/50\n",
      "69/69 [==============================] - 23s 331ms/step - loss: 0.1716 - accuracy: 0.9397 - val_loss: 0.3549 - val_accuracy: 0.8913\n",
      "Epoch 7/50\n",
      "69/69 [==============================] - 23s 330ms/step - loss: 0.1257 - accuracy: 0.9549 - val_loss: 0.3901 - val_accuracy: 0.8893\n",
      "Epoch 8/50\n",
      "69/69 [==============================] - 23s 331ms/step - loss: 0.0941 - accuracy: 0.9660 - val_loss: 0.4510 - val_accuracy: 0.8926\n"
     ]
    }
   ],
   "source": [
    "checkpoint_path = \"../models/DL/lstm-train/cp.ckpt\"\n",
    "checkpoint_dir = os.path.dirname(checkpoint_path)\n",
    "\n",
    "# Create a callback that saves the model's weights\n",
    "my_callbacks = [\n",
    "                keras.callbacks.ModelCheckpoint(filepath=checkpoint_path,\n",
    "                                                 save_weights_only=True,\n",
    "                                                 verbose=False),\n",
    "                keras.callbacks.EarlyStopping(monitor='val_loss', patience=2),\n",
    "                ]\n",
    "\n",
    "\n",
    "history_hybrid = model_hybrid.fit(X_train, y_train,\n",
    "                    epochs=50,\n",
    "                    verbose=True,\n",
    "                    validation_data=(X_validation, y_validation),\n",
    "                    batch_size=3000,\n",
    "                    callbacks=[my_callbacks])\n",
    "\n",
    "#model_hybrid.save('../models/DL/lstm-model/my_model-lstm')"
   ]
  },
  {
   "cell_type": "markdown",
   "id": "bb61de6f",
   "metadata": {},
   "source": [
    "Plotting the `history` will help to better understand the fitting process."
   ]
  },
  {
   "cell_type": "code",
   "execution_count": 15,
   "id": "183dfeee",
   "metadata": {
    "id": "183dfeee"
   },
   "outputs": [],
   "source": [
    "plt.style.use('ggplot')\n",
    "\n",
    "def plot_history(history):\n",
    "    acc = history.history['accuracy']\n",
    "    val_acc = history.history['val_accuracy']\n",
    "    loss = history.history['loss']\n",
    "    val_loss = history.history['val_loss']\n",
    "    x = range(1, len(acc) + 1)\n",
    "\n",
    "    plt.figure(figsize=(12, 5))\n",
    "    plt.subplot(1, 2, 1)\n",
    "    plt.plot(x, acc, 'b', label='Training acc')\n",
    "    plt.plot(x, val_acc, 'r', label='Validation acc')\n",
    "    plt.title('Training and validation accuracy')\n",
    "    plt.legend()\n",
    "    plt.subplot(1, 2, 2)\n",
    "    plt.plot(x, loss, 'b', label='Training loss')\n",
    "    plt.plot(x, val_loss, 'r', label='Validation loss')\n",
    "    plt.title('Training and validation loss')\n",
    "    plt.legend()"
   ]
  },
  {
   "cell_type": "code",
   "execution_count": 16,
   "id": "d18885bb",
   "metadata": {
    "colab": {
     "base_uri": "https://localhost:8080/",
     "height": 372
    },
    "id": "d18885bb",
    "outputId": "56afe2bd-f5e7-4037-f428-73b7b88f7d00"
   },
   "outputs": [
    {
     "name": "stdout",
     "output_type": "stream",
     "text": [
      "Training Accuracy: 0.9743\n",
      "Validation Accuracy:  0.8926\n"
     ]
    },
    {
     "data": {
      "image/png": "[encoded data removed]",
      "text/plain": [
       "<Figure size 864x360 with 2 Axes>"
      ]
     },
     "metadata": {},
     "output_type": "display_data"
    }
   ],
   "source": [
    "loss, accuracy = model_hybrid.evaluate(X_train, y_train, verbose=False)\n",
    "print(\"Training Accuracy: {:.4f}\".format(accuracy))\n",
    "loss, accuracy = model_hybrid.evaluate(X_validation, y_validation, verbose=False)\n",
    "print(\"Validation Accuracy:  {:.4f}\".format(accuracy))\n",
    "plot_history(history_hybrid)"
   ]
  },
  {
   "cell_type": "code",
   "execution_count": 17,
   "id": "b5cca046",
   "metadata": {
    "colab": {
     "base_uri": "https://localhost:8080/"
    },
    "id": "b5cca046",
    "outputId": "f28e06ce-7a68-4745-edef-2c841a5b7190"
   },
   "outputs": [
    {
     "name": "stdout",
     "output_type": "stream",
     "text": [
      "              precision    recall  f1-score   support\n",
      "\n",
      "    business       0.93      0.95      0.94     73935\n",
      "     finance       0.70      0.74      0.72      6788\n",
      "     general       0.89      0.87      0.88     25646\n",
      "     science       0.00      0.00      0.00      1690\n",
      "        tech       0.37      0.43      0.40      2617\n",
      "\n",
      "    accuracy                           0.89    110676\n",
      "   macro avg       0.58      0.60      0.59    110676\n",
      "weighted avg       0.88      0.89      0.89    110676\n",
      "\n"
     ]
    }
   ],
   "source": [
    "y_pred_prob = model_hybrid.predict(X_test)\n",
    "y_pred = np.argmax(y_pred_prob, axis=1)\n",
    "print(classification_report(y_test, y_pred, target_names=list(enc_tags_mapping.values())))"
   ]
  },
  {
   "cell_type": "markdown",
   "id": "9397844e",
   "metadata": {},
   "source": [
    "Results indicate that the CNN model performs better for classification of the articles in this problem."
   ]
  }
 ],
 "metadata": {
  "accelerator": "GPU",
  "colab": {
   "collapsed_sections": [],
   "name": "4.5-ra-Modeling-DL-Simplified.ipynb",
   "provenance": []
  },
  "kernelspec": {
   "display_name": "tf-gpu",
   "language": "python",
   "name": "tensorflow"
  },
  "language_info": {
   "codemirror_mode": {
    "name": "ipython",
    "version": 3
   },
   "file_extension": ".py",
   "mimetype": "text/x-python",
   "name": "python",
   "nbconvert_exporter": "python",
   "pygments_lexer": "ipython3",
   "version": "3.8.12"
  }
 },
 "nbformat": 4,
 "nbformat_minor": 5
}
