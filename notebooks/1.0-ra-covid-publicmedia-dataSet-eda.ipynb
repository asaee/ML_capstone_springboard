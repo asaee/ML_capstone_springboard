{
 "cells": [
  {
   "cell_type": "markdown",
   "id": "advisory-mixture",
   "metadata": {},
   "source": [
    "# EDA - Covid public media dataset"
   ]
  },
  {
   "cell_type": "markdown",
   "id": "tutorial-shannon",
   "metadata": {},
   "source": [
    "The goal of this notebook is to perfrom the initial exploratory data analysis (EDA) on the COVID public media dataset. Mainly, I want to inspect the data format, handle the missing elements, and prepare the raw data for the next step.  "
   ]
  },
  {
   "cell_type": "code",
   "execution_count": 1,
   "id": "appointed-vampire",
   "metadata": {},
   "outputs": [],
   "source": [
    "import pandas as pd\n",
    "import matplotlib.pyplot as plt"
   ]
  },
  {
   "cell_type": "markdown",
   "id": "athletic-vinyl",
   "metadata": {},
   "source": [
    "For this project I want to use the Covid-19 Public Media Dataset by Anacode from Kaggle. The dataset includes \n",
    "- More than 350,000 online articles related to Covid-19\n",
    "- 65 websites, mostly curated and professional resources\n",
    "- Main data type: text\n",
    "- Content focus: non-medical aspects of Covid-19\n",
    "\n",
    "The data was stored in a csv format on Kaggle. I have downladed the data and in the next step, I load the raw data from the local machine to perform the analysis."
   ]
  },
  {
   "cell_type": "code",
   "execution_count": 2,
   "id": "independent-lightweight",
   "metadata": {},
   "outputs": [],
   "source": [
    "df = pd.read_csv('..\\\\data\\\\raw\\\\covid19_articles_20201231.csv')"
   ]
  },
  {
   "cell_type": "markdown",
   "id": "maritime-defensive",
   "metadata": {},
   "source": [
    "First, let's see how many data points and columns we have in this file."
   ]
  },
  {
   "cell_type": "code",
   "execution_count": 3,
   "id": "acute-chest",
   "metadata": {},
   "outputs": [
    {
     "data": {
      "text/plain": [
       "(369047, 7)"
      ]
     },
     "execution_count": 3,
     "metadata": {},
     "output_type": "execute_result"
    }
   ],
   "source": [
    "df.shape"
   ]
  },
  {
   "cell_type": "markdown",
   "id": "hourly-usage",
   "metadata": {},
   "source": [
    "Next I want to see the first five rows of the dataset."
   ]
  },
  {
   "cell_type": "code",
   "execution_count": 4,
   "id": "ecological-suspect",
   "metadata": {},
   "outputs": [
    {
     "data": {
      "text/html": [
       "<div>\n",
       "<style scoped>\n",
       "    .dataframe tbody tr th:only-of-type {\n",
       "        vertical-align: middle;\n",
       "    }\n",
       "\n",
       "    .dataframe tbody tr th {\n",
       "        vertical-align: top;\n",
       "    }\n",
       "\n",
       "    .dataframe thead th {\n",
       "        text-align: right;\n",
       "    }\n",
       "</style>\n",
       "<table border=\"1\" class=\"dataframe\">\n",
       "  <thead>\n",
       "    <tr style=\"text-align: right;\">\n",
       "      <th></th>\n",
       "      <th>author</th>\n",
       "      <th>date</th>\n",
       "      <th>domain</th>\n",
       "      <th>title</th>\n",
       "      <th>url</th>\n",
       "      <th>content</th>\n",
       "      <th>topic_area</th>\n",
       "    </tr>\n",
       "  </thead>\n",
       "  <tbody>\n",
       "    <tr>\n",
       "      <th>0</th>\n",
       "      <td>Thomas Hughes</td>\n",
       "      <td>2020-01-02</td>\n",
       "      <td>marketbeat</td>\n",
       "      <td>Three Industrial Giants You Should Own In 2020</td>\n",
       "      <td>https://www.marketbeat.com/originals/three-ind...</td>\n",
       "      <td>With the end of the year just around the corne...</td>\n",
       "      <td>business</td>\n",
       "    </tr>\n",
       "    <tr>\n",
       "      <th>1</th>\n",
       "      <td>Thomas Hughes</td>\n",
       "      <td>2020-01-03</td>\n",
       "      <td>marketbeat</td>\n",
       "      <td>Labor Stocks Are Going To Break Out In 2020</td>\n",
       "      <td>https://www.marketbeat.com/originals/labor-sto...</td>\n",
       "      <td>The labor markets were one of the most closely...</td>\n",
       "      <td>business</td>\n",
       "    </tr>\n",
       "    <tr>\n",
       "      <th>2</th>\n",
       "      <td>Steve Anderson</td>\n",
       "      <td>2020-01-03</td>\n",
       "      <td>marketbeat</td>\n",
       "      <td>Tesla (TSLA) Breaks Shipment Record, Beats Est...</td>\n",
       "      <td>https://www.marketbeat.com/originals/teal-brea...</td>\n",
       "      <td>It could be forgiven, that some might think th...</td>\n",
       "      <td>business</td>\n",
       "    </tr>\n",
       "    <tr>\n",
       "      <th>3</th>\n",
       "      <td>Roberto Torres</td>\n",
       "      <td>2020-01-03</td>\n",
       "      <td>ciodive</td>\n",
       "      <td>On the road to AI adoption, execs grapple with...</td>\n",
       "      <td>https://www.ciodive.com/news/ai-adoption-execs...</td>\n",
       "      <td>CIOs kicked off 2019 with AI as an item to wat...</td>\n",
       "      <td>tech</td>\n",
       "    </tr>\n",
       "    <tr>\n",
       "      <th>4</th>\n",
       "      <td>Alden Wicker</td>\n",
       "      <td>2020-01-06</td>\n",
       "      <td>instyle</td>\n",
       "      <td>Red Carpet Sustainability After Coronavirus Sh...</td>\n",
       "      <td>https://www.instyle.com/fashion/red-carpet-cor...</td>\n",
       "      <td>When the coronavirus pandemic is over and life...</td>\n",
       "      <td>consumer</td>\n",
       "    </tr>\n",
       "  </tbody>\n",
       "</table>\n",
       "</div>"
      ],
      "text/plain": [
       "            author        date      domain  \\\n",
       "0    Thomas Hughes  2020-01-02  marketbeat   \n",
       "1    Thomas Hughes  2020-01-03  marketbeat   \n",
       "2  Steve Anderson   2020-01-03  marketbeat   \n",
       "3   Roberto Torres  2020-01-03     ciodive   \n",
       "4     Alden Wicker  2020-01-06     instyle   \n",
       "\n",
       "                                               title  \\\n",
       "0     Three Industrial Giants You Should Own In 2020   \n",
       "1        Labor Stocks Are Going To Break Out In 2020   \n",
       "2  Tesla (TSLA) Breaks Shipment Record, Beats Est...   \n",
       "3  On the road to AI adoption, execs grapple with...   \n",
       "4  Red Carpet Sustainability After Coronavirus Sh...   \n",
       "\n",
       "                                                 url  \\\n",
       "0  https://www.marketbeat.com/originals/three-ind...   \n",
       "1  https://www.marketbeat.com/originals/labor-sto...   \n",
       "2  https://www.marketbeat.com/originals/teal-brea...   \n",
       "3  https://www.ciodive.com/news/ai-adoption-execs...   \n",
       "4  https://www.instyle.com/fashion/red-carpet-cor...   \n",
       "\n",
       "                                             content topic_area  \n",
       "0  With the end of the year just around the corne...   business  \n",
       "1  The labor markets were one of the most closely...   business  \n",
       "2  It could be forgiven, that some might think th...   business  \n",
       "3  CIOs kicked off 2019 with AI as an item to wat...       tech  \n",
       "4  When the coronavirus pandemic is over and life...   consumer  "
      ]
     },
     "execution_count": 4,
     "metadata": {},
     "output_type": "execute_result"
    }
   ],
   "source": [
    "df.head()"
   ]
  },
  {
   "cell_type": "markdown",
   "id": "hydraulic-student",
   "metadata": {},
   "source": [
    "Let's check the type of each column."
   ]
  },
  {
   "cell_type": "code",
   "execution_count": 5,
   "id": "accomplished-northeast",
   "metadata": {},
   "outputs": [
    {
     "name": "stdout",
     "output_type": "stream",
     "text": [
      "<class 'pandas.core.frame.DataFrame'>\n",
      "RangeIndex: 369047 entries, 0 to 369046\n",
      "Data columns (total 7 columns):\n",
      " #   Column      Non-Null Count   Dtype \n",
      "---  ------      --------------   ----- \n",
      " 0   author      181799 non-null  object\n",
      " 1   date        369047 non-null  object\n",
      " 2   domain      369047 non-null  object\n",
      " 3   title       368962 non-null  object\n",
      " 4   url         369047 non-null  object\n",
      " 5   content     369047 non-null  object\n",
      " 6   topic_area  369047 non-null  object\n",
      "dtypes: object(7)\n",
      "memory usage: 19.7+ MB\n"
     ]
    }
   ],
   "source": [
    "df.info()"
   ]
  },
  {
   "cell_type": "markdown",
   "id": "generous-container",
   "metadata": {},
   "source": [
    "It seems that some columns have missing values. Let's check the exact number."
   ]
  },
  {
   "cell_type": "code",
   "execution_count": 6,
   "id": "educational-folder",
   "metadata": {},
   "outputs": [
    {
     "data": {
      "text/plain": [
       "author        187248\n",
       "date               0\n",
       "domain             0\n",
       "title             85\n",
       "url                0\n",
       "content            0\n",
       "topic_area         0\n",
       "dtype: int64"
      ]
     },
     "execution_count": 6,
     "metadata": {},
     "output_type": "execute_result"
    }
   ],
   "source": [
    "df.isnull().sum()"
   ]
  },
  {
   "cell_type": "markdown",
   "id": "german-imagination",
   "metadata": {},
   "source": [
    "The missing data was found in two columns:\n",
    "- The ***author*** is missing for about half of the articles. However, it will have limitted impact on this study.\n",
    "- The ***title*** is missing for 85 cases. It can be a sign of a corrupt data entry. Let's check those data points."
   ]
  },
  {
   "cell_type": "code",
   "execution_count": 7,
   "id": "refined-independence",
   "metadata": {},
   "outputs": [
    {
     "data": {
      "text/html": [
       "<div>\n",
       "<style scoped>\n",
       "    .dataframe tbody tr th:only-of-type {\n",
       "        vertical-align: middle;\n",
       "    }\n",
       "\n",
       "    .dataframe tbody tr th {\n",
       "        vertical-align: top;\n",
       "    }\n",
       "\n",
       "    .dataframe thead th {\n",
       "        text-align: right;\n",
       "    }\n",
       "</style>\n",
       "<table border=\"1\" class=\"dataframe\">\n",
       "  <thead>\n",
       "    <tr style=\"text-align: right;\">\n",
       "      <th></th>\n",
       "      <th>author</th>\n",
       "      <th>date</th>\n",
       "      <th>domain</th>\n",
       "      <th>title</th>\n",
       "      <th>url</th>\n",
       "      <th>content</th>\n",
       "      <th>topic_area</th>\n",
       "    </tr>\n",
       "  </thead>\n",
       "  <tbody>\n",
       "    <tr>\n",
       "      <th>4093</th>\n",
       "      <td>NaN</td>\n",
       "      <td>2020-02-11</td>\n",
       "      <td>marketscreener</td>\n",
       "      <td>NaN</td>\n",
       "      <td>https://www.marketscreener.com/news/latest/GLO...</td>\n",
       "      <td>Earnings season. Dominion Energy, Air Liquide,...</td>\n",
       "      <td>business</td>\n",
       "    </tr>\n",
       "    <tr>\n",
       "      <th>4889</th>\n",
       "      <td>NaN</td>\n",
       "      <td>2020-02-13</td>\n",
       "      <td>marketscreener</td>\n",
       "      <td>NaN</td>\n",
       "      <td>https://www.marketscreener.com/news/latest/GLO...</td>\n",
       "      <td>Earnings season. Alibaba Group, Nestlé, Pepsi...</td>\n",
       "      <td>business</td>\n",
       "    </tr>\n",
       "    <tr>\n",
       "      <th>5181</th>\n",
       "      <td>NaN</td>\n",
       "      <td>2020-02-14</td>\n",
       "      <td>marketscreener</td>\n",
       "      <td>NaN</td>\n",
       "      <td>https://www.marketscreener.com/news/GLOBAL-MAR...</td>\n",
       "      <td>Earnings season. AstraZeneca, Crédit Agricole...</td>\n",
       "      <td>business</td>\n",
       "    </tr>\n",
       "    <tr>\n",
       "      <th>5626</th>\n",
       "      <td>NaN</td>\n",
       "      <td>2020-02-17</td>\n",
       "      <td>marketscreener</td>\n",
       "      <td>NaN</td>\n",
       "      <td>https://www.marketscreener.com/news/GLOBAL-MAR...</td>\n",
       "      <td>Earnings season. BHP Group, Deutsche Börse, B...</td>\n",
       "      <td>business</td>\n",
       "    </tr>\n",
       "    <tr>\n",
       "      <th>7872</th>\n",
       "      <td>NaN</td>\n",
       "      <td>2020-02-25</td>\n",
       "      <td>marketscreener</td>\n",
       "      <td>NaN</td>\n",
       "      <td>https://www.marketscreener.com/news/GLOBAL-MAR...</td>\n",
       "      <td>Earnings season. Home Depot, Salesforce.com, A...</td>\n",
       "      <td>business</td>\n",
       "    </tr>\n",
       "    <tr>\n",
       "      <th>...</th>\n",
       "      <td>...</td>\n",
       "      <td>...</td>\n",
       "      <td>...</td>\n",
       "      <td>...</td>\n",
       "      <td>...</td>\n",
       "      <td>...</td>\n",
       "      <td>...</td>\n",
       "    </tr>\n",
       "    <tr>\n",
       "      <th>347212</th>\n",
       "      <td>NaN</td>\n",
       "      <td>2020-11-20</td>\n",
       "      <td>marketscreener</td>\n",
       "      <td>NaN</td>\n",
       "      <td>https://www.marketscreener.com/news/latest/GLO...</td>\n",
       "      <td>Earnings season: Naspers, Thai Beverage, Sage ...</td>\n",
       "      <td>business</td>\n",
       "    </tr>\n",
       "    <tr>\n",
       "      <th>348155</th>\n",
       "      <td>NaN</td>\n",
       "      <td>2020-11-23</td>\n",
       "      <td>marketscreener</td>\n",
       "      <td>NaN</td>\n",
       "      <td>https://www.marketscreener.com/news/latest/GLO...</td>\n",
       "      <td>Earnings season. Prosus, Naspers, Agilent, War...</td>\n",
       "      <td>business</td>\n",
       "    </tr>\n",
       "    <tr>\n",
       "      <th>349208</th>\n",
       "      <td>NaN</td>\n",
       "      <td>2020-11-24</td>\n",
       "      <td>marketscreener</td>\n",
       "      <td>NaN</td>\n",
       "      <td>https://www.marketscreener.com/news/latest/GLO...</td>\n",
       "      <td>Earnings season. Medtronic, Xiaomi, VMware, Au...</td>\n",
       "      <td>business</td>\n",
       "    </tr>\n",
       "    <tr>\n",
       "      <th>350140</th>\n",
       "      <td>NaN</td>\n",
       "      <td>2020-11-25</td>\n",
       "      <td>marketscreener</td>\n",
       "      <td>NaN</td>\n",
       "      <td>https://www.marketscreener.com/news/latest/GLO...</td>\n",
       "      <td>Gap Inc: its share price collapsed by 11% afte...</td>\n",
       "      <td>business</td>\n",
       "    </tr>\n",
       "    <tr>\n",
       "      <th>353027</th>\n",
       "      <td>NaN</td>\n",
       "      <td>2020-12-01</td>\n",
       "      <td>marketscreener</td>\n",
       "      <td>NaN</td>\n",
       "      <td>https://www.marketscreener.com/news/latest/GLO...</td>\n",
       "      <td>Pfizer and BioNTech announced Tuesday that the...</td>\n",
       "      <td>business</td>\n",
       "    </tr>\n",
       "  </tbody>\n",
       "</table>\n",
       "<p>85 rows × 7 columns</p>\n",
       "</div>"
      ],
      "text/plain": [
       "       author        date          domain title  \\\n",
       "4093      NaN  2020-02-11  marketscreener   NaN   \n",
       "4889      NaN  2020-02-13  marketscreener   NaN   \n",
       "5181      NaN  2020-02-14  marketscreener   NaN   \n",
       "5626      NaN  2020-02-17  marketscreener   NaN   \n",
       "7872      NaN  2020-02-25  marketscreener   NaN   \n",
       "...       ...         ...             ...   ...   \n",
       "347212    NaN  2020-11-20  marketscreener   NaN   \n",
       "348155    NaN  2020-11-23  marketscreener   NaN   \n",
       "349208    NaN  2020-11-24  marketscreener   NaN   \n",
       "350140    NaN  2020-11-25  marketscreener   NaN   \n",
       "353027    NaN  2020-12-01  marketscreener   NaN   \n",
       "\n",
       "                                                      url  \\\n",
       "4093    https://www.marketscreener.com/news/latest/GLO...   \n",
       "4889    https://www.marketscreener.com/news/latest/GLO...   \n",
       "5181    https://www.marketscreener.com/news/GLOBAL-MAR...   \n",
       "5626    https://www.marketscreener.com/news/GLOBAL-MAR...   \n",
       "7872    https://www.marketscreener.com/news/GLOBAL-MAR...   \n",
       "...                                                   ...   \n",
       "347212  https://www.marketscreener.com/news/latest/GLO...   \n",
       "348155  https://www.marketscreener.com/news/latest/GLO...   \n",
       "349208  https://www.marketscreener.com/news/latest/GLO...   \n",
       "350140  https://www.marketscreener.com/news/latest/GLO...   \n",
       "353027  https://www.marketscreener.com/news/latest/GLO...   \n",
       "\n",
       "                                                  content topic_area  \n",
       "4093    Earnings season. Dominion Energy, Air Liquide,...   business  \n",
       "4889     Earnings season. Alibaba Group, Nestlé, Pepsi...   business  \n",
       "5181     Earnings season. AstraZeneca, Crédit Agricole...   business  \n",
       "5626     Earnings season. BHP Group, Deutsche Börse, B...   business  \n",
       "7872    Earnings season. Home Depot, Salesforce.com, A...   business  \n",
       "...                                                   ...        ...  \n",
       "347212  Earnings season: Naspers, Thai Beverage, Sage ...   business  \n",
       "348155  Earnings season. Prosus, Naspers, Agilent, War...   business  \n",
       "349208  Earnings season. Medtronic, Xiaomi, VMware, Au...   business  \n",
       "350140  Gap Inc: its share price collapsed by 11% afte...   business  \n",
       "353027  Pfizer and BioNTech announced Tuesday that the...   business  \n",
       "\n",
       "[85 rows x 7 columns]"
      ]
     },
     "execution_count": 7,
     "metadata": {},
     "output_type": "execute_result"
    }
   ],
   "source": [
    "df[df.title.isnull()]"
   ]
  },
  {
   "cell_type": "markdown",
   "id": "liquid-valentine",
   "metadata": {},
   "source": [
    "It seems the 85 article with missing title are business reports. To ensure let's check the domain for those articles."
   ]
  },
  {
   "cell_type": "code",
   "execution_count": 8,
   "id": "realistic-junior",
   "metadata": {},
   "outputs": [
    {
     "data": {
      "text/plain": [
       "array(['marketscreener', 'finance.yahoo'], dtype=object)"
      ]
     },
     "execution_count": 8,
     "metadata": {},
     "output_type": "execute_result"
    }
   ],
   "source": [
    "df[df.title.isnull()].domain.unique()"
   ]
  },
  {
   "cell_type": "markdown",
   "id": "cardiac-easter",
   "metadata": {},
   "source": [
    "As seen above the *marketscreener* and *finance.yahoo* are the only two source for those articles. If the content of the articles are valid we can impute the missing title values and keep the data points. Let's check the content of the first row."
   ]
  },
  {
   "cell_type": "code",
   "execution_count": 9,
   "id": "unusual-shareware",
   "metadata": {},
   "outputs": [
    {
     "data": {
      "text/plain": [
       "array(['Earnings season. Dominion Energy, Air Liquide, Daimler, Hilton, Delivery Hero, Hasbro, Ocado and Randstad are among companies reporting their earnings today. Update. Deutsche Bank has approached Microsoft, Google and Amazon to modernize its technology networks, sources close to the case told Reuters. Virus impact. General Motors plans to suspend production at one of its plants in South Korea on February 17 and 18, as the fallout from the coronavirus epidemic in China has led to a shortage of spare parts, the automaker said. Thank you, Disney. Hasbro jumped by 9 % after announcing a better than expected profit for the fourth quarter, thanks to cost reductions and the success of the \"Star Wars\" and \"Frozen\" licenses. Disappointing results. Under Armour said it expects a decline in its annual sales, due to the coronavirus epidemic in China. The share of the sports equipment manufacturer fell by more than 14 % The outcome is nearing. The American justice system could authorize the merger between T-Mobile US and Sprint as of today, according to several press reports. This would be a major victory for the two big companies, as attorneys general in many states are seeking to prohibit the merger, amid fears of reduced competition. The deal would reduce the number of major players in the US from 4 to 3. Trump still at the helm? Amazon.com wants Donald Trump to testify in the dispute over his eviction from the big Pentagon contract. The group believes that its subsidiary AWS was pushed out under pressure from the American President, whose enmity for Jeff Bezos is notorious (the reciprocal is true). In other news. The Slack share rose by 15.6% yesterday, after Business Insider mentioned a big contract with International Business Machines. William Hill signs a deal with ViacomCBS to find new prospects. Avis Budget appoints former Kraft Heinz boss Bernardo Hees as president. Infosys offers Simplus. Morgan Stanley invests more than 6 million Uber shares. Daimler proposes a dividend at the lower end of the expected range and estimates that its 2020 results will be significantly higher than those of 2019.'],\n",
       "      dtype=object)"
      ]
     },
     "execution_count": 9,
     "metadata": {},
     "output_type": "execute_result"
    }
   ],
   "source": [
    "df[df.title.isnull()][:1].content.values"
   ]
  },
  {
   "cell_type": "markdown",
   "id": "logical-blocking",
   "metadata": {},
   "source": [
    "I think the report is valid and can be used in the analysis. Let's keep them for now. The next step is to identify the duplicated items. An article may be published on different domains but ususally the *title* remains the same. Let's check the duplicated titles."
   ]
  },
  {
   "cell_type": "code",
   "execution_count": 10,
   "id": "greater-presentation",
   "metadata": {},
   "outputs": [
    {
     "data": {
      "text/plain": [
       "14727"
      ]
     },
     "execution_count": 10,
     "metadata": {},
     "output_type": "execute_result"
    }
   ],
   "source": [
    "df.duplicated(subset=['title']).sum()"
   ]
  },
  {
   "cell_type": "code",
   "execution_count": 11,
   "id": "conservative-registration",
   "metadata": {},
   "outputs": [
    {
     "data": {
      "text/plain": [
       "Opinion                                                                                     1134\n",
       "Breakingviews                                                                                175\n",
       "COVID-19 Impact and Recovery Analysis                                                        102\n",
       "The Fiver                                                                                     56\n",
       "Burden of COVID-19 on the Market & Rehabilitation Plan                                        53\n",
       "COVID-19 Impact & Recovery Analysis                                                           32\n",
       "Facebook introduces new livestreaming features as demand skyrockets                           14\n",
       "Op-Ed                                                                                         13\n",
       "The Breakdown                                                                                 12\n",
       "PRESS DIGEST-British Business                                                                 12\n",
       "CNN 10                                                                                        11\n",
       "What’s Going On in This Graph?                                                                 9\n",
       "Travel industry under siege as coronavirus contagion grows                                     8\n",
       "Slack is working on a way to call Microsoft Teams users                                        8\n",
       "Media Release                                                                                  8\n",
       "The Spin                                                                                       7\n",
       "PRESS DIGEST- Financial Times                                                                  6\n",
       "Why 'Second Life' developer Linden Lab gave up on its VR spin-off                              6\n",
       "The surveillance profiteers of COVID-19 are here                                               6\n",
       "Europe stuck on the ground as China markets jump                                               4\n",
       "Starbucks expands Chinese order services to multiple Alibaba apps                              4\n",
       "Where did all the bulls go? Rallies stall as EU summit begins                                  4\n",
       "Analysis of COVID-19 Impact                                                                    4\n",
       "Vietnam suspends flights to and from Danang due to virus outbreak                              4\n",
       "Exclusive: Trump administration says Huawei, Hikvision backed by Chinese military              4\n",
       "Exclusive: EU in talks with Moderna, BioNtech, CureVac to secure possible COVID vaccines       4\n",
       "Cruise passengers shunned over coronavirus to head home after Cambodia reprieve                4\n",
       "Oil falls as U.S. fiscal package faces tough talks                                             4\n",
       "Tyson Foods names new CEO as coronavirus raises costs                                          4\n",
       "EU recovery fund lifts shares to five-month high                                               4\n",
       "Name: title, dtype: int64"
      ]
     },
     "execution_count": 11,
     "metadata": {},
     "output_type": "execute_result"
    }
   ],
   "source": [
    "df[df.duplicated(subset=['title'])].title.value_counts().head(30)"
   ]
  },
  {
   "cell_type": "code",
   "execution_count": 12,
   "id": "choice-alias",
   "metadata": {},
   "outputs": [
    {
     "data": {
      "text/plain": [
       "19680    TV and media giants, including streaming servi...\n",
       "22048    Movie studios have spent years considering rel...\n",
       "25216    Chances are you're already sharing streaming r...\n",
       "29606    YouTube is joining Netflix in reducing streami...\n",
       "31274    Many movie and TV productions have shut down i...\n",
       "32381    Movie studios are already sending theatrical r...\n",
       "36134    The next time you load up a YouTube video, it ...\n",
       "Name: content, dtype: object"
      ]
     },
     "execution_count": 12,
     "metadata": {},
     "output_type": "execute_result"
    }
   ],
   "source": [
    "df[df.title == \"Why 'Second Life' developer Linden Lab gave up on its VR spin-off\"].content"
   ]
  },
  {
   "cell_type": "markdown",
   "id": "logical-central",
   "metadata": {},
   "source": [
    "About 4% of the rows found as duplicates. The first five items are general titles in news but the more specific titles can be assumed as duplicates. I am not dropping the items now, but will keep in mind to remove them if it impact the analysis. Let's see if any content is duplicated."
   ]
  },
  {
   "cell_type": "code",
   "execution_count": 13,
   "id": "simplified-supply",
   "metadata": {},
   "outputs": [
    {
     "data": {
      "text/plain": [
       "127"
      ]
     },
     "execution_count": 13,
     "metadata": {},
     "output_type": "execute_result"
    }
   ],
   "source": [
    "df.duplicated(subset=['content']).sum()"
   ]
  },
  {
   "cell_type": "markdown",
   "id": "resistant-thomas",
   "metadata": {},
   "source": [
    "Dropping the duplicated contents would have minimal impact on the scope of this analysis. I fill the remaining missing titles with the word *missing*. "
   ]
  },
  {
   "cell_type": "code",
   "execution_count": 14,
   "id": "living-sport",
   "metadata": {},
   "outputs": [],
   "source": [
    "values = {\"title\": 'missing', \"author\": 'missing'}\n",
    "df.fillna(value=values, inplace=True)\n",
    "\n",
    "unique_df = df.drop_duplicates(subset=['content'], keep='first')"
   ]
  },
  {
   "cell_type": "markdown",
   "id": "periodic-option",
   "metadata": {},
   "source": [
    "The *date* is stored as object. Let's convert that to datetime64."
   ]
  },
  {
   "cell_type": "code",
   "execution_count": 26,
   "id": "third-apparel",
   "metadata": {},
   "outputs": [
    {
     "name": "stdout",
     "output_type": "stream",
     "text": [
      "<class 'pandas.core.frame.DataFrame'>\n",
      "Index: 368921 entries, 0 to date\n",
      "Data columns (total 7 columns):\n",
      " #   Column      Non-Null Count   Dtype         \n",
      "---  ------      --------------   -----         \n",
      " 0   author      368920 non-null  object        \n",
      " 1   date        368920 non-null  datetime64[ns]\n",
      " 2   domain      368920 non-null  object        \n",
      " 3   title       368920 non-null  object        \n",
      " 4   url         368920 non-null  object        \n",
      " 5   content     368920 non-null  object        \n",
      " 6   topic_area  368920 non-null  object        \n",
      "dtypes: datetime64[ns](1), object(6)\n",
      "memory usage: 22.5+ MB\n"
     ]
    },
    {
     "name": "stderr",
     "output_type": "stream",
     "text": [
      "<ipython-input-26-174fe462da69>:1: SettingWithCopyWarning: \n",
      "A value is trying to be set on a copy of a slice from a DataFrame.\n",
      "Try using .loc[row_indexer,col_indexer] = value instead\n",
      "\n",
      "See the caveats in the documentation: https://pandas.pydata.org/pandas-docs/stable/user_guide/indexing.html#returning-a-view-versus-a-copy\n",
      "  unique_df['date'] = pd.to_datetime(unique_df['date'])\n"
     ]
    }
   ],
   "source": [
    "unique_df['date'] = pd.to_datetime(unique_df['date'])\n",
    "unique_df.info()"
   ]
  },
  {
   "cell_type": "code",
   "execution_count": 16,
   "id": "proved-bones",
   "metadata": {},
   "outputs": [
    {
     "data": {
      "text/html": [
       "<div>\n",
       "<style scoped>\n",
       "    .dataframe tbody tr th:only-of-type {\n",
       "        vertical-align: middle;\n",
       "    }\n",
       "\n",
       "    .dataframe tbody tr th {\n",
       "        vertical-align: top;\n",
       "    }\n",
       "\n",
       "    .dataframe thead th {\n",
       "        text-align: right;\n",
       "    }\n",
       "</style>\n",
       "<table border=\"1\" class=\"dataframe\">\n",
       "  <thead>\n",
       "    <tr style=\"text-align: right;\">\n",
       "      <th></th>\n",
       "      <th>author</th>\n",
       "      <th>date</th>\n",
       "      <th>domain</th>\n",
       "      <th>title</th>\n",
       "      <th>url</th>\n",
       "      <th>content</th>\n",
       "      <th>topic_area</th>\n",
       "    </tr>\n",
       "  </thead>\n",
       "  <tbody>\n",
       "    <tr>\n",
       "      <th>0</th>\n",
       "      <td>Thomas Hughes</td>\n",
       "      <td>2020-01-02</td>\n",
       "      <td>marketbeat</td>\n",
       "      <td>Three Industrial Giants You Should Own In 2020</td>\n",
       "      <td>https://www.marketbeat.com/originals/three-ind...</td>\n",
       "      <td>With the end of the year just around the corne...</td>\n",
       "      <td>business</td>\n",
       "    </tr>\n",
       "    <tr>\n",
       "      <th>1</th>\n",
       "      <td>Thomas Hughes</td>\n",
       "      <td>2020-01-03</td>\n",
       "      <td>marketbeat</td>\n",
       "      <td>Labor Stocks Are Going To Break Out In 2020</td>\n",
       "      <td>https://www.marketbeat.com/originals/labor-sto...</td>\n",
       "      <td>The labor markets were one of the most closely...</td>\n",
       "      <td>business</td>\n",
       "    </tr>\n",
       "    <tr>\n",
       "      <th>2</th>\n",
       "      <td>Steve Anderson</td>\n",
       "      <td>2020-01-03</td>\n",
       "      <td>marketbeat</td>\n",
       "      <td>Tesla (TSLA) Breaks Shipment Record, Beats Est...</td>\n",
       "      <td>https://www.marketbeat.com/originals/teal-brea...</td>\n",
       "      <td>It could be forgiven, that some might think th...</td>\n",
       "      <td>business</td>\n",
       "    </tr>\n",
       "    <tr>\n",
       "      <th>3</th>\n",
       "      <td>Roberto Torres</td>\n",
       "      <td>2020-01-03</td>\n",
       "      <td>ciodive</td>\n",
       "      <td>On the road to AI adoption, execs grapple with...</td>\n",
       "      <td>https://www.ciodive.com/news/ai-adoption-execs...</td>\n",
       "      <td>CIOs kicked off 2019 with AI as an item to wat...</td>\n",
       "      <td>tech</td>\n",
       "    </tr>\n",
       "    <tr>\n",
       "      <th>4</th>\n",
       "      <td>Alden Wicker</td>\n",
       "      <td>2020-01-06</td>\n",
       "      <td>instyle</td>\n",
       "      <td>Red Carpet Sustainability After Coronavirus Sh...</td>\n",
       "      <td>https://www.instyle.com/fashion/red-carpet-cor...</td>\n",
       "      <td>When the coronavirus pandemic is over and life...</td>\n",
       "      <td>consumer</td>\n",
       "    </tr>\n",
       "    <tr>\n",
       "      <th>...</th>\n",
       "      <td>...</td>\n",
       "      <td>...</td>\n",
       "      <td>...</td>\n",
       "      <td>...</td>\n",
       "      <td>...</td>\n",
       "      <td>...</td>\n",
       "      <td>...</td>\n",
       "    </tr>\n",
       "    <tr>\n",
       "      <th>369042</th>\n",
       "      <td>Polly Harrison</td>\n",
       "      <td>2020-12-31</td>\n",
       "      <td>thefintechtimes</td>\n",
       "      <td>A Human Touch Will Be a Competitive Edge After...</td>\n",
       "      <td>https://thefintechtimes.com/53867-2/</td>\n",
       "      <td>Niels Pedersen is a Chartered Accountant and S...</td>\n",
       "      <td>finance</td>\n",
       "    </tr>\n",
       "    <tr>\n",
       "      <th>369043</th>\n",
       "      <td>missing</td>\n",
       "      <td>2020-12-31</td>\n",
       "      <td>marketscreener</td>\n",
       "      <td>Datametrex AI : Announces Deploying NexaSecuri...</td>\n",
       "      <td>https://www.marketscreener.com/quote/stock/DAT...</td>\n",
       "      <td>Datametrex AI Limited (TSXV: DM) (FSE: D4G) (O...</td>\n",
       "      <td>business</td>\n",
       "    </tr>\n",
       "    <tr>\n",
       "      <th>369044</th>\n",
       "      <td>Polly Harrison</td>\n",
       "      <td>2020-12-31</td>\n",
       "      <td>thefintechtimes</td>\n",
       "      <td>US Payments: Smart Pension, Episode Six, PAAY ...</td>\n",
       "      <td>https://thefintechtimes.com/us-payments-smart-...</td>\n",
       "      <td>This December, The Fintech Times is asking ind...</td>\n",
       "      <td>finance</td>\n",
       "    </tr>\n",
       "    <tr>\n",
       "      <th>369045</th>\n",
       "      <td>missing</td>\n",
       "      <td>2020-12-31</td>\n",
       "      <td>marketscreener</td>\n",
       "      <td>WESTWATER RESOURCES, INC. : Entry into a Mater...</td>\n",
       "      <td>https://www.marketscreener.com/quote/stock/WES...</td>\n",
       "      <td>Item 1.01Entry into a Material Definitive Agre...</td>\n",
       "      <td>business</td>\n",
       "    </tr>\n",
       "    <tr>\n",
       "      <th>369046</th>\n",
       "      <td>missing</td>\n",
       "      <td>2020-12-31</td>\n",
       "      <td>marketscreener</td>\n",
       "      <td>FTSE 100 wraps up worst year since 2008 financ...</td>\n",
       "      <td>https://www.marketscreener.com/quote/index/FTS...</td>\n",
       "      <td>The FTSE 100 lost 1.5%, with consumer stocks, ...</td>\n",
       "      <td>business</td>\n",
       "    </tr>\n",
       "  </tbody>\n",
       "</table>\n",
       "<p>368920 rows × 7 columns</p>\n",
       "</div>"
      ],
      "text/plain": [
       "                 author        date           domain  \\\n",
       "0         Thomas Hughes  2020-01-02       marketbeat   \n",
       "1         Thomas Hughes  2020-01-03       marketbeat   \n",
       "2       Steve Anderson   2020-01-03       marketbeat   \n",
       "3        Roberto Torres  2020-01-03          ciodive   \n",
       "4          Alden Wicker  2020-01-06          instyle   \n",
       "...                 ...         ...              ...   \n",
       "369042   Polly Harrison  2020-12-31  thefintechtimes   \n",
       "369043          missing  2020-12-31   marketscreener   \n",
       "369044   Polly Harrison  2020-12-31  thefintechtimes   \n",
       "369045          missing  2020-12-31   marketscreener   \n",
       "369046          missing  2020-12-31   marketscreener   \n",
       "\n",
       "                                                    title  \\\n",
       "0          Three Industrial Giants You Should Own In 2020   \n",
       "1             Labor Stocks Are Going To Break Out In 2020   \n",
       "2       Tesla (TSLA) Breaks Shipment Record, Beats Est...   \n",
       "3       On the road to AI adoption, execs grapple with...   \n",
       "4       Red Carpet Sustainability After Coronavirus Sh...   \n",
       "...                                                   ...   \n",
       "369042  A Human Touch Will Be a Competitive Edge After...   \n",
       "369043  Datametrex AI : Announces Deploying NexaSecuri...   \n",
       "369044  US Payments: Smart Pension, Episode Six, PAAY ...   \n",
       "369045  WESTWATER RESOURCES, INC. : Entry into a Mater...   \n",
       "369046  FTSE 100 wraps up worst year since 2008 financ...   \n",
       "\n",
       "                                                      url  \\\n",
       "0       https://www.marketbeat.com/originals/three-ind...   \n",
       "1       https://www.marketbeat.com/originals/labor-sto...   \n",
       "2       https://www.marketbeat.com/originals/teal-brea...   \n",
       "3       https://www.ciodive.com/news/ai-adoption-execs...   \n",
       "4       https://www.instyle.com/fashion/red-carpet-cor...   \n",
       "...                                                   ...   \n",
       "369042               https://thefintechtimes.com/53867-2/   \n",
       "369043  https://www.marketscreener.com/quote/stock/DAT...   \n",
       "369044  https://thefintechtimes.com/us-payments-smart-...   \n",
       "369045  https://www.marketscreener.com/quote/stock/WES...   \n",
       "369046  https://www.marketscreener.com/quote/index/FTS...   \n",
       "\n",
       "                                                  content topic_area  \n",
       "0       With the end of the year just around the corne...   business  \n",
       "1       The labor markets were one of the most closely...   business  \n",
       "2       It could be forgiven, that some might think th...   business  \n",
       "3       CIOs kicked off 2019 with AI as an item to wat...       tech  \n",
       "4       When the coronavirus pandemic is over and life...   consumer  \n",
       "...                                                   ...        ...  \n",
       "369042  Niels Pedersen is a Chartered Accountant and S...    finance  \n",
       "369043  Datametrex AI Limited (TSXV: DM) (FSE: D4G) (O...   business  \n",
       "369044  This December, The Fintech Times is asking ind...    finance  \n",
       "369045  Item 1.01Entry into a Material Definitive Agre...   business  \n",
       "369046  The FTSE 100 lost 1.5%, with consumer stocks, ...   business  \n",
       "\n",
       "[368920 rows x 7 columns]"
      ]
     },
     "execution_count": 16,
     "metadata": {},
     "output_type": "execute_result"
    }
   ],
   "source": [
    "unique_df"
   ]
  },
  {
   "cell_type": "markdown",
   "id": "focused-bundle",
   "metadata": {},
   "source": [
    "Now, let's look at some trends in the data. First, I want to plot the total number of articles per month."
   ]
  },
  {
   "cell_type": "code",
   "execution_count": 27,
   "id": "focal-nitrogen",
   "metadata": {},
   "outputs": [
    {
     "data": {
      "text/plain": [
       "<AxesSubplot:title={'center':'Number of articles per month'}, xlabel='month', ylabel='frequency'>"
      ]
     },
     "execution_count": 27,
     "metadata": {},
     "output_type": "execute_result"
    },
    {
     "data": {
      "image/png": "[encoded data removed]",
      "text/plain": [
       "<Figure size 432x288 with 1 Axes>"
      ]
     },
     "metadata": {
      "needs_background": "light"
     },
     "output_type": "display_data"
    }
   ],
   "source": [
    "unique_df.title.groupby(unique_df.date.dt.month).count().plot(kind=\"bar\", xlabel='month', ylabel='frequency', title='Number of articles per month')"
   ]
  },
  {
   "cell_type": "markdown",
   "id": "limiting-methodology",
   "metadata": {},
   "source": [
    "Next, I want to plot the number of articles by topic area per month. To do this first I need to look at the unique topics."
   ]
  },
  {
   "cell_type": "code",
   "execution_count": 21,
   "id": "disabled-inspector",
   "metadata": {},
   "outputs": [
    {
     "data": {
      "text/plain": [
       "business        244422\n",
       "general          84921\n",
       "finance          22386\n",
       "tech              8676\n",
       "science           3478\n",
       "consumer          1451\n",
       "healthcare        1340\n",
       "automotive         925\n",
       "environment        777\n",
       "construction       305\n",
       "ai                 239\n",
       "Name: topic_area, dtype: int64"
      ]
     },
     "execution_count": 21,
     "metadata": {},
     "output_type": "execute_result"
    }
   ],
   "source": [
    "unique_df.topic_area.value_counts()"
   ]
  },
  {
   "cell_type": "code",
   "execution_count": 22,
   "id": "synthetic-liability",
   "metadata": {},
   "outputs": [
    {
     "data": {
      "text/plain": [
       "<AxesSubplot:title={'center':'Frequency of Business and Finance articles per month'}, xlabel='month', ylabel='frequency'>"
      ]
     },
     "execution_count": 22,
     "metadata": {},
     "output_type": "execute_result"
    },
    {
     "data": {
      "image/png": "[encoded data removed]",
      "text/plain": [
       "<Figure size 432x288 with 1 Axes>"
      ]
     },
     "metadata": {
      "needs_background": "light"
     },
     "output_type": "display_data"
    }
   ],
   "source": [
    "unique_df[unique_df.topic_area.isin(['business','finance'])].title.groupby(unique_df.date.dt.month).count().plot(kind=\"bar\", xlabel='month', ylabel='frequency', title='Frequency of Business and Finance articles per month')"
   ]
  },
  {
   "cell_type": "code",
   "execution_count": null,
   "id": "impossible-prime",
   "metadata": {},
   "outputs": [],
   "source": []
  }
 ],
 "metadata": {
  "kernelspec": {
   "display_name": "Python 3",
   "language": "python",
   "name": "python3"
  },
  "language_info": {
   "codemirror_mode": {
    "name": "ipython",
    "version": 3
   },
   "file_extension": ".py",
   "mimetype": "text/x-python",
   "name": "python",
   "nbconvert_exporter": "python",
   "pygments_lexer": "ipython3",
   "version": "3.9.1"
  }
 },
 "nbformat": 4,
 "nbformat_minor": 5
}
