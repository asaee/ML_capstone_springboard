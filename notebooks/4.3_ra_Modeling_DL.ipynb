{
  "nbformat": 4,
  "nbformat_minor": 5,
  "metadata": {
    "kernelspec": {
      "display_name": "Python 3 (ipykernel)",
      "language": "python",
      "name": "python3"
    },
    "language_info": {
      "codemirror_mode": {
        "name": "ipython",
        "version": 3
      },
      "file_extension": ".py",
      "mimetype": "text/x-python",
      "name": "python",
      "nbconvert_exporter": "python",
      "pygments_lexer": "ipython3",
      "version": "3.8.8"
    },
    "colab": {
      "name": "4.3-ra-Modeling-DL.ipynb",
      "provenance": [],
      "collapsed_sections": []
    },
    "accelerator": "GPU"
  },
  "cells": [
    {
      "cell_type": "markdown",
      "metadata": {
        "id": "727ffa25"
      },
      "source": [
        "# Deep Learning Model\n"
      ],
      "id": "727ffa25"
    },
    {
      "cell_type": "code",
      "metadata": {
        "id": "43dbdaba"
      },
      "source": [
        "# filter out unncessary warnings\n",
        "import warnings\n",
        "warnings.filterwarnings('ignore')"
      ],
      "id": "43dbdaba",
      "execution_count": 2,
      "outputs": []
    },
    {
      "cell_type": "code",
      "metadata": {
        "id": "0a2443d1"
      },
      "source": [
        "import pandas as pd\n",
        "import numpy as np\n",
        "import matplotlib.pyplot as plt\n",
        "import os\n",
        "import re\n",
        "import shutil\n",
        "import string\n",
        "import tensorflow as tf\n",
        "import keras\n",
        "from tensorflow.keras import layers\n",
        "from tensorflow.keras import losses\n",
        "from keras.preprocessing.text import Tokenizer\n",
        "from keras.preprocessing.sequence import pad_sequences\n",
        "from keras.models import Sequential\n",
        "\n",
        "from sklearn.model_selection import train_test_split\n",
        "from sklearn.preprocessing import LabelEncoder\n",
        "from sklearn.metrics import classification_report\n"
      ],
      "id": "0a2443d1",
      "execution_count": 3,
      "outputs": []
    },
    {
      "cell_type": "code",
      "metadata": {
        "id": "de0a703b"
      },
      "source": [
        "# remove unnecessary TF logs\n",
        "import logging\n",
        "tf.get_logger().setLevel(logging.ERROR)"
      ],
      "id": "de0a703b",
      "execution_count": 4,
      "outputs": []
    },
    {
      "cell_type": "code",
      "metadata": {
        "colab": {
          "base_uri": "https://localhost:8080/"
        },
        "id": "196dc561",
        "outputId": "a68ef0ea-2cda-4d41-d062-fe209439f24d"
      },
      "source": [
        "# check keras and TF version used\n",
        "print('TF Version:', tf.__version__)\n",
        "print('Keras Version:', keras.__version__)\n",
        "print('Number of available GPUs:', len(tf.config.list_physical_devices('GPU')))"
      ],
      "id": "196dc561",
      "execution_count": 5,
      "outputs": [
        {
          "output_type": "stream",
          "name": "stdout",
          "text": [
            "TF Version: 2.7.0\n",
            "Keras Version: 2.7.0\n",
            "Number of available GPUs: 0\n"
          ]
        }
      ]
    },
    {
      "cell_type": "code",
      "metadata": {
        "colab": {
          "base_uri": "https://localhost:8080/"
        },
        "id": "l062yylvuNM2",
        "outputId": "da7393e2-2946-4923-f707-b43951ab27c1"
      },
      "source": [
        "from google.colab import drive\n",
        "drive.mount('/content/drive')"
      ],
      "id": "l062yylvuNM2",
      "execution_count": 6,
      "outputs": [
        {
          "output_type": "stream",
          "name": "stdout",
          "text": [
            "Drive already mounted at /content/drive; to attempt to forcibly remount, call drive.mount(\"/content/drive\", force_remount=True).\n"
          ]
        }
      ]
    },
    {
      "cell_type": "code",
      "metadata": {
        "colab": {
          "base_uri": "https://localhost:8080/"
        },
        "id": "685cf171",
        "outputId": "f2957329-1f85-4eec-dc5b-dbceacb44de0"
      },
      "source": [
        "# Read the data\n",
        "df = pd.read_csv('/content/drive/My Drive/ML_NLP/covid_articles_preprocessed.csv')\n",
        "\n",
        "## Merge Tags\n",
        "\n",
        "tag_map = {'consumer':'general',\n",
        "           'healthcare':'science',\n",
        "           'automotive':'business',\n",
        "           'environment':'science',\n",
        "           'construction':'business',\n",
        "           'ai':'tech'}\n",
        "\n",
        "df['tags'] = [(lambda tags: tag_map[tags] if tags in tag_map.keys() else tags)(tags)\n",
        "                          for tags in df['topic_area']]\n",
        "df.tags.value_counts()"
      ],
      "id": "685cf171",
      "execution_count": 7,
      "outputs": [
        {
          "output_type": "execute_result",
          "data": {
            "text/plain": [
              "business    245652\n",
              "general      86372\n",
              "finance      22386\n",
              "tech          8915\n",
              "science       5595\n",
              "Name: tags, dtype: int64"
            ]
          },
          "metadata": {},
          "execution_count": 7
        }
      ]
    },
    {
      "cell_type": "code",
      "metadata": {
        "id": "2ac7f2c0"
      },
      "source": [
        "X = df.content.tolist()\n",
        "y = df.tags.values\n",
        "\n",
        "enc = LabelEncoder()\n",
        "y = enc.fit_transform(y)\n",
        "enc_tags_mapping = dict(zip(enc.transform(enc.classes_), enc.classes_))\n",
        "\n",
        "## Split the data in train and test\n",
        "X_train, X_test, y_train, y_test = train_test_split(X, y, test_size=0.3, random_state=21)\n",
        "X_train, X_validation, y_train, y_validation = train_test_split(X_train, y_train, test_size=0.2, random_state=21)"
      ],
      "id": "2ac7f2c0",
      "execution_count": 8,
      "outputs": []
    },
    {
      "cell_type": "code",
      "metadata": {
        "id": "20f56653"
      },
      "source": [
        "tokenizer = Tokenizer()\n",
        "tokenizer.fit_on_texts(X_train)\n",
        "\n",
        "X_train = tokenizer.texts_to_sequences(X_train)\n",
        "X_test = tokenizer.texts_to_sequences(X_test)\n",
        "X_validation = tokenizer.texts_to_sequences(X_validation)\n",
        "\n",
        "vocab_size = len(tokenizer.word_index) + 1  # Adding 1 because of reserved 0 index\n"
      ],
      "id": "20f56653",
      "execution_count": 9,
      "outputs": []
    },
    {
      "cell_type": "code",
      "metadata": {
        "id": "c084ab35"
      },
      "source": [
        "maxlen = 470\n",
        "\n",
        "X_train = pad_sequences(X_train, padding='post', maxlen=maxlen)\n",
        "X_test = pad_sequences(X_test, padding='post', maxlen=maxlen)\n",
        "X_validation = pad_sequences(X_validation, padding='post', maxlen=maxlen)"
      ],
      "id": "c084ab35",
      "execution_count": 10,
      "outputs": []
    },
    {
      "cell_type": "code",
      "metadata": {
        "colab": {
          "base_uri": "https://localhost:8080/"
        },
        "id": "41225b0c",
        "outputId": "9e714b5b-aa2c-4a34-cb07-041bde5c4570"
      },
      "source": [
        "embedding_dim = 50\n",
        "\n",
        "model = Sequential()\n",
        "model.add(layers.Embedding(input_dim=vocab_size, \n",
        "                           output_dim=embedding_dim, \n",
        "                           input_length=maxlen))\n",
        "model.add(layers.Dropout(rate=0.2, seed=21))\n",
        "model.add(layers.GlobalAveragePooling1D())\n",
        "model.add(layers.Dense(512, activation='relu'))\n",
        "model.add(layers.Dropout(rate=0.5, seed=21))\n",
        "model.add(layers.Dense(5, activation='softmax'))\n",
        "model.compile(optimizer='adam',\n",
        "              loss='sparse_categorical_crossentropy',\n",
        "              metrics=['accuracy'])\n",
        "model.summary()"
      ],
      "id": "41225b0c",
      "execution_count": 11,
      "outputs": [
        {
          "output_type": "stream",
          "name": "stdout",
          "text": [
            "Model: \"sequential\"\n",
            "_________________________________________________________________\n",
            " Layer (type)                Output Shape              Param #   \n",
            "=================================================================\n",
            " embedding (Embedding)       (None, 470, 50)           46890800  \n",
            "                                                                 \n",
            " dropout (Dropout)           (None, 470, 50)           0         \n",
            "                                                                 \n",
            " global_average_pooling1d (G  (None, 50)               0         \n",
            " lobalAveragePooling1D)                                          \n",
            "                                                                 \n",
            " dense (Dense)               (None, 512)               26112     \n",
            "                                                                 \n",
            " dropout_1 (Dropout)         (None, 512)               0         \n",
            "                                                                 \n",
            " dense_1 (Dense)             (None, 5)                 2565      \n",
            "                                                                 \n",
            "=================================================================\n",
            "Total params: 46,919,477\n",
            "Trainable params: 46,919,477\n",
            "Non-trainable params: 0\n",
            "_________________________________________________________________\n"
          ]
        }
      ]
    },
    {
      "cell_type": "code",
      "metadata": {
        "id": "183dfeee"
      },
      "source": [
        "plt.style.use('ggplot')\n",
        "\n",
        "def plot_history(history):\n",
        "    acc = history.history['accuracy']\n",
        "    val_acc = history.history['val_accuracy']\n",
        "    loss = history.history['loss']\n",
        "    val_loss = history.history['val_loss']\n",
        "    x = range(1, len(acc) + 1)\n",
        "\n",
        "    plt.figure(figsize=(12, 5))\n",
        "    plt.subplot(1, 2, 1)\n",
        "    plt.plot(x, acc, 'b', label='Training acc')\n",
        "    plt.plot(x, val_acc, 'r', label='Validation acc')\n",
        "    plt.title('Training and validation accuracy')\n",
        "    plt.legend()\n",
        "    plt.subplot(1, 2, 2)\n",
        "    plt.plot(x, loss, 'b', label='Training loss')\n",
        "    plt.plot(x, val_loss, 'r', label='Validation loss')\n",
        "    plt.title('Training and validation loss')\n",
        "    plt.legend()"
      ],
      "id": "183dfeee",
      "execution_count": 18,
      "outputs": []
    },
    {
      "cell_type": "code",
      "metadata": {
        "colab": {
          "base_uri": "https://localhost:8080/"
        },
        "id": "f0c25c47",
        "outputId": "260d02ec-6ff9-4c37-eea7-ca1957dda066"
      },
      "source": [
        "checkpoint_path = \"/content/drive/My Drive/ML_NLP/training_1/cp.ckpt\"\n",
        "checkpoint_dir = os.path.dirname(checkpoint_path)\n",
        "\n",
        "# Create a callback that saves the model's weights\n",
        "my_callbacks = [\n",
        "                keras.callbacks.ModelCheckpoint(filepath=checkpoint_path,\n",
        "                                                 save_weights_only=True,\n",
        "                                                 verbose=1),\n",
        "                keras.callbacks.EarlyStopping(monitor='val_loss', patience=3),\n",
        "                ]\n",
        "\n",
        "\n",
        "history = model.fit(X_train, y_train,\n",
        "                    epochs=50,\n",
        "                    verbose=True,\n",
        "                    validation_data=(X_validation, y_validation),\n",
        "                    batch_size=5000,\n",
        "                    callbacks=[my_callbacks])\n",
        "\n",
        "model.save('/content/drive/My Drive/ML_NLP/saved_model/my_model')"
      ],
      "id": "f0c25c47",
      "execution_count": 12,
      "outputs": [
        {
          "output_type": "stream",
          "name": "stdout",
          "text": [
            "Epoch 1/50\n",
            "42/42 [==============================] - ETA: 0s - loss: 1.2189 - accuracy: 0.6531\n",
            "Epoch 00001: saving model to /content/drive/My Drive/ML_NLP/training_1/cp.ckpt\n",
            "42/42 [==============================] - 94s 2s/step - loss: 1.2189 - accuracy: 0.6531 - val_loss: 0.9167 - val_accuracy: 0.6689\n",
            "Epoch 2/50\n",
            "42/42 [==============================] - ETA: 0s - loss: 0.8714 - accuracy: 0.6662\n",
            "Epoch 00002: saving model to /content/drive/My Drive/ML_NLP/training_1/cp.ckpt\n",
            "42/42 [==============================] - 93s 2s/step - loss: 0.8714 - accuracy: 0.6662 - val_loss: 0.7817 - val_accuracy: 0.7041\n",
            "Epoch 3/50\n",
            "42/42 [==============================] - ETA: 0s - loss: 0.7039 - accuracy: 0.7727\n",
            "Epoch 00003: saving model to /content/drive/My Drive/ML_NLP/training_1/cp.ckpt\n",
            "42/42 [==============================] - 103s 2s/step - loss: 0.7039 - accuracy: 0.7727 - val_loss: 0.6187 - val_accuracy: 0.8004\n",
            "Epoch 4/50\n",
            "42/42 [==============================] - ETA: 0s - loss: 0.5762 - accuracy: 0.8109\n",
            "Epoch 00004: saving model to /content/drive/My Drive/ML_NLP/training_1/cp.ckpt\n",
            "42/42 [==============================] - 97s 2s/step - loss: 0.5762 - accuracy: 0.8109 - val_loss: 0.5351 - val_accuracy: 0.8168\n",
            "Epoch 5/50\n",
            "42/42 [==============================] - ETA: 0s - loss: 0.4981 - accuracy: 0.8284\n",
            "Epoch 00005: saving model to /content/drive/My Drive/ML_NLP/training_1/cp.ckpt\n",
            "42/42 [==============================] - 94s 2s/step - loss: 0.4981 - accuracy: 0.8284 - val_loss: 0.4738 - val_accuracy: 0.8292\n",
            "Epoch 6/50\n",
            "42/42 [==============================] - ETA: 0s - loss: 0.4307 - accuracy: 0.8441\n",
            "Epoch 00006: saving model to /content/drive/My Drive/ML_NLP/training_1/cp.ckpt\n",
            "42/42 [==============================] - 95s 2s/step - loss: 0.4307 - accuracy: 0.8441 - val_loss: 0.4212 - val_accuracy: 0.8428\n",
            "Epoch 7/50\n",
            "42/42 [==============================] - ETA: 0s - loss: 0.3716 - accuracy: 0.8670\n",
            "Epoch 00007: saving model to /content/drive/My Drive/ML_NLP/training_1/cp.ckpt\n",
            "42/42 [==============================] - 96s 2s/step - loss: 0.3716 - accuracy: 0.8670 - val_loss: 0.3818 - val_accuracy: 0.8617\n",
            "Epoch 8/50\n",
            "42/42 [==============================] - ETA: 0s - loss: 0.3254 - accuracy: 0.8856\n",
            "Epoch 00008: saving model to /content/drive/My Drive/ML_NLP/training_1/cp.ckpt\n",
            "42/42 [==============================] - 96s 2s/step - loss: 0.3254 - accuracy: 0.8856 - val_loss: 0.3549 - val_accuracy: 0.8726\n",
            "Epoch 9/50\n",
            "42/42 [==============================] - ETA: 0s - loss: 0.2849 - accuracy: 0.9000\n",
            "Epoch 00009: saving model to /content/drive/My Drive/ML_NLP/training_1/cp.ckpt\n",
            "42/42 [==============================] - 105s 2s/step - loss: 0.2849 - accuracy: 0.9000 - val_loss: 0.3319 - val_accuracy: 0.8798\n",
            "Epoch 10/50\n",
            "42/42 [==============================] - ETA: 0s - loss: 0.2465 - accuracy: 0.9121\n",
            "Epoch 00010: saving model to /content/drive/My Drive/ML_NLP/training_1/cp.ckpt\n",
            "42/42 [==============================] - 96s 2s/step - loss: 0.2465 - accuracy: 0.9121 - val_loss: 0.3098 - val_accuracy: 0.8876\n",
            "Epoch 11/50\n",
            "42/42 [==============================] - ETA: 0s - loss: 0.2097 - accuracy: 0.9254\n",
            "Epoch 00011: saving model to /content/drive/My Drive/ML_NLP/training_1/cp.ckpt\n",
            "42/42 [==============================] - 98s 2s/step - loss: 0.2097 - accuracy: 0.9254 - val_loss: 0.2912 - val_accuracy: 0.8945\n",
            "Epoch 12/50\n",
            "42/42 [==============================] - ETA: 0s - loss: 0.1801 - accuracy: 0.9363\n",
            "Epoch 00012: saving model to /content/drive/My Drive/ML_NLP/training_1/cp.ckpt\n",
            "42/42 [==============================] - 96s 2s/step - loss: 0.1801 - accuracy: 0.9363 - val_loss: 0.2816 - val_accuracy: 0.8994\n",
            "Epoch 13/50\n",
            "42/42 [==============================] - ETA: 0s - loss: 0.1575 - accuracy: 0.9459\n",
            "Epoch 00013: saving model to /content/drive/My Drive/ML_NLP/training_1/cp.ckpt\n",
            "42/42 [==============================] - 97s 2s/step - loss: 0.1575 - accuracy: 0.9459 - val_loss: 0.2781 - val_accuracy: 0.9014\n",
            "Epoch 14/50\n",
            "42/42 [==============================] - ETA: 0s - loss: 0.1399 - accuracy: 0.9524\n",
            "Epoch 00014: saving model to /content/drive/My Drive/ML_NLP/training_1/cp.ckpt\n",
            "42/42 [==============================] - 97s 2s/step - loss: 0.1399 - accuracy: 0.9524 - val_loss: 0.2781 - val_accuracy: 0.9032\n",
            "Epoch 15/50\n",
            "42/42 [==============================] - ETA: 0s - loss: 0.1225 - accuracy: 0.9588\n",
            "Epoch 00015: saving model to /content/drive/My Drive/ML_NLP/training_1/cp.ckpt\n",
            "42/42 [==============================] - 97s 2s/step - loss: 0.1225 - accuracy: 0.9588 - val_loss: 0.2765 - val_accuracy: 0.9061\n",
            "Epoch 16/50\n",
            "42/42 [==============================] - ETA: 0s - loss: 0.1083 - accuracy: 0.9650\n",
            "Epoch 00016: saving model to /content/drive/My Drive/ML_NLP/training_1/cp.ckpt\n",
            "42/42 [==============================] - 107s 2s/step - loss: 0.1083 - accuracy: 0.9650 - val_loss: 0.2783 - val_accuracy: 0.9070\n",
            "Epoch 17/50\n",
            "42/42 [==============================] - ETA: 0s - loss: 0.0955 - accuracy: 0.9699\n",
            "Epoch 00017: saving model to /content/drive/My Drive/ML_NLP/training_1/cp.ckpt\n",
            "42/42 [==============================] - 97s 2s/step - loss: 0.0955 - accuracy: 0.9699 - val_loss: 0.2828 - val_accuracy: 0.9076\n",
            "Epoch 18/50\n",
            "42/42 [==============================] - ETA: 0s - loss: 0.0846 - accuracy: 0.9738\n",
            "Epoch 00018: saving model to /content/drive/My Drive/ML_NLP/training_1/cp.ckpt\n",
            "42/42 [==============================] - 97s 2s/step - loss: 0.0846 - accuracy: 0.9738 - val_loss: 0.2850 - val_accuracy: 0.9088\n"
          ]
        }
      ]
    },
    {
      "cell_type": "code",
      "metadata": {
        "colab": {
          "base_uri": "https://localhost:8080/",
          "height": 372
        },
        "id": "d18885bb",
        "outputId": "19d6a637-f2c5-4eed-8ccd-7f9fa8ad9534"
      },
      "source": [
        "loss, accuracy = model.evaluate(X_train, y_train, verbose=False)\n",
        "print(\"Training Accuracy: {:.4f}\".format(accuracy))\n",
        "loss, accuracy = model.evaluate(X_validation, y_validation, verbose=False)\n",
        "print(\"Validation Accuracy:  {:.4f}\".format(accuracy))\n",
        "plot_history(history)"
      ],
      "id": "d18885bb",
      "execution_count": 19,
      "outputs": [
        {
          "output_type": "stream",
          "name": "stdout",
          "text": [
            "Training Accuracy: 0.9816\n",
            "Validation Accuracy:  0.9088\n"
          ]
        },
        {
          "output_type": "display_data",
          "data": {
            "image/png": "[encoded data removed]",
            "text/plain": [
              "<Figure size 864x360 with 2 Axes>"
            ]
          },
          "metadata": {}
        }
      ]
    },
    {
      "cell_type": "code",
      "metadata": {
        "colab": {
          "base_uri": "https://localhost:8080/"
        },
        "id": "b5cca046",
        "outputId": "1d019c18-7526-4186-dd59-241795944033"
      },
      "source": [
        "y_pred_prob = model.predict(X_test)\n",
        "y_pred = np.argmax(y_pred_prob, axis=1)\n",
        "print(classification_report(y_test, y_pred, target_names=list(enc_tags_mapping.values())))"
      ],
      "id": "b5cca046",
      "execution_count": 34,
      "outputs": [
        {
          "output_type": "stream",
          "name": "stdout",
          "text": [
            "              precision    recall  f1-score   support\n",
            "\n",
            "    business       0.93      0.95      0.94     73935\n",
            "     finance       0.86      0.77      0.81      6788\n",
            "     general       0.88      0.88      0.88     25646\n",
            "     science       0.67      0.44      0.53      1690\n",
            "        tech       0.66      0.55      0.60      2617\n",
            "\n",
            "    accuracy                           0.91    110676\n",
            "   macro avg       0.80      0.72      0.75    110676\n",
            "weighted avg       0.91      0.91      0.91    110676\n",
            "\n"
          ]
        }
      ]
    },
    {
      "cell_type": "markdown",
      "metadata": {
        "id": "b9fc9748"
      },
      "source": [
        "## Altenative method of creating embeddings"
      ],
      "id": "b9fc9748"
    },
    {
      "cell_type": "code",
      "metadata": {
        "id": "942e8f6e"
      },
      "source": [
        "def custom_standardization(input_data):\n",
        "  lowercase = tf.strings.lower(input_data)\n",
        "  stripped_html = tf.strings.regex_replace(lowercase, '<br />', ' ')\n",
        "  return tf.strings.regex_replace(stripped_html,\n",
        "                                  '[%s]' % re.escape(string.punctuation),\n",
        "                                  '')"
      ],
      "id": "942e8f6e",
      "execution_count": null,
      "outputs": []
    },
    {
      "cell_type": "code",
      "metadata": {
        "id": "5cfd3591"
      },
      "source": [
        "max_features = 10000\n",
        "sequence_length = 250\n",
        "\n",
        "vectorize_layer = tf.keras.layers.TextVectorization(\n",
        "    standardize=custom_standardization,\n",
        "    max_tokens=max_features,\n",
        "    output_mode='int',\n",
        "    output_sequence_length=sequence_length)"
      ],
      "id": "5cfd3591",
      "execution_count": null,
      "outputs": []
    },
    {
      "cell_type": "code",
      "metadata": {
        "id": "95aed1c3"
      },
      "source": [
        "layers?"
      ],
      "id": "95aed1c3",
      "execution_count": null,
      "outputs": []
    },
    {
      "cell_type": "code",
      "metadata": {
        "id": "9820cfed"
      },
      "source": [
        "vectorize_layer.adapt(X_train)"
      ],
      "id": "9820cfed",
      "execution_count": null,
      "outputs": []
    },
    {
      "cell_type": "code",
      "metadata": {
        "id": "a6b0a017"
      },
      "source": [
        "def vectorize_text(text, label):\n",
        "  text = tf.expand_dims(text, -1)\n",
        "  return vectorize_layer(text), label"
      ],
      "id": "a6b0a017",
      "execution_count": null,
      "outputs": []
    },
    {
      "cell_type": "code",
      "metadata": {
        "id": "dad8d698"
      },
      "source": [
        "# retrieve a batch (of 32 reviews and labels) from the dataset\n",
        "#text_batch, label_batch = next(iter(raw_train_ds))\n",
        "first_review, first_label = X_train[0], y_train[0]\n",
        "print(\"Review\", first_review)\n",
        "print(\"Label\", raw_train_ds.class_names[first_label])\n",
        "print(\"Vectorized review\", vectorize_text(first_review, first_label))"
      ],
      "id": "dad8d698",
      "execution_count": null,
      "outputs": []
    },
    {
      "cell_type": "code",
      "metadata": {
        "id": "dadc1bad"
      },
      "source": [
        "train_ds = map(vectorize_text, X_train)\n",
        "val_ds = map(vectorize_text, X_validation)\n",
        "test_ds = map(vectorize_text, X_test)"
      ],
      "id": "dadc1bad",
      "execution_count": null,
      "outputs": []
    },
    {
      "cell_type": "code",
      "metadata": {
        "id": "d6481ab4"
      },
      "source": [
        "AUTOTUNE = tf.data.AUTOTUNE\n",
        "\n",
        "train_ds = train_ds.cache().prefetch(buffer_size=AUTOTUNE)\n",
        "val_ds = val_ds.cache().prefetch(buffer_size=AUTOTUNE)\n",
        "test_ds = test_ds.cache().prefetch(buffer_size=AUTOTUNE)"
      ],
      "id": "d6481ab4",
      "execution_count": null,
      "outputs": []
    }
  ]
}